{
 "cells": [
  {
   "cell_type": "markdown",
   "id": "d15d8294-3328-4e07-ad16-8a03e9bbfdb9",
   "metadata": {},
   "source": [
    "# Welcome to your first assignment!\n",
    "\n",
    "Instructions are below. Please give this a try, and look in the solutions folder if you get stuck (or feel free to ask me!)"
   ]
  },
  {
   "cell_type": "markdown",
   "id": "ada885d9-4d42-4d9b-97f0-74fbbbfe93a9",
   "metadata": {},
   "source": [
    "<table style=\"margin: 0; text-align: left;\">\n",
    "    <tr>\n",
    "        <td style=\"width: 150px; height: 150px; vertical-align: middle;\">\n",
    "            <img src=\"../resources.jpg\" width=\"150\" height=\"150\" style=\"display: block;\" />\n",
    "        </td>\n",
    "        <td>\n",
    "            <h2 style=\"color:#f71;\">Just before we get to the assignment --</h2>\n",
    "            <span style=\"color:#f71;\">I thought I'd take a second to point you at this page of useful resources for the course. This includes links to all the slides.<br/>\n",
    "            <a href=\"https://edwarddonner.com/2024/11/13/llm-engineering-resources/\">https://edwarddonner.com/2024/11/13/llm-engineering-resources/</a><br/>\n",
    "            Please keep this bookmarked, and I'll continue to add more useful links there over time.\n",
    "            </span>\n",
    "        </td>\n",
    "    </tr>\n",
    "</table>"
   ]
  },
  {
   "cell_type": "markdown",
   "id": "6e9fa1fc-eac5-4d1d-9be4-541b3f2b3458",
   "metadata": {},
   "source": [
    "# HOMEWORK EXERCISE ASSIGNMENT\n",
    "\n",
    "Upgrade the day 1 project to summarize a webpage to use an Open Source model running locally via Ollama rather than OpenAI\n",
    "\n",
    "You'll be able to use this technique for all subsequent projects if you'd prefer not to use paid APIs.\n",
    "\n",
    "**Benefits:**\n",
    "1. No API charges - open-source\n",
    "2. Data doesn't leave your box\n",
    "\n",
    "**Disadvantages:**\n",
    "1. Significantly less power than Frontier Model\n",
    "\n",
    "## Recap on installation of Ollama\n",
    "\n",
    "Simply visit [ollama.com](https://ollama.com) and install!\n",
    "\n",
    "Once complete, the ollama server should already be running locally.  \n",
    "If you visit:  \n",
    "[http://localhost:11434/](http://localhost:11434/)\n",
    "\n",
    "You should see the message `Ollama is running`.  \n",
    "\n",
    "If not, bring up a new Terminal (Mac) or Powershell (Windows) and enter `ollama serve`  \n",
    "And in another Terminal (Mac) or Powershell (Windows), enter `ollama pull llama3.2`  \n",
    "Then try [http://localhost:11434/](http://localhost:11434/) again.\n",
    "\n",
    "If Ollama is slow on your machine, try using `llama3.2:1b` as an alternative. Run `ollama pull llama3.2:1b` from a Terminal or Powershell, and change the code below from `MODEL = \"llama3.2\"` to `MODEL = \"llama3.2:1b\"`"
   ]
  },
  {
   "cell_type": "code",
   "execution_count": 1,
   "id": "4e2a9393-7767-488e-a8bf-27c12dca35bd",
   "metadata": {},
   "outputs": [],
   "source": [
    "# imports\n",
    "\n",
    "import requests\n",
    "from bs4 import BeautifulSoup\n",
    "from IPython.display import Markdown, display"
   ]
  },
  {
   "cell_type": "code",
   "execution_count": 2,
   "id": "29ddd15d-a3c5-4f4e-a678-873f56162724",
   "metadata": {},
   "outputs": [],
   "source": [
    "# Constants\n",
    "\n",
    "OLLAMA_API = \"http://localhost:11434/api/chat\"\n",
    "HEADERS = {\"Content-Type\": \"application/json\"}\n",
    "MODEL = \"llama3.2:1b\""
   ]
  },
  {
   "cell_type": "code",
   "execution_count": 3,
   "id": "dac0a679-599c-441f-9bf2-ddc73d35b940",
   "metadata": {},
   "outputs": [],
   "source": [
    "# Create a messages list using the same format that we used for OpenAI\n",
    "\n",
    "messages = [\n",
    "    {\"role\": \"user\", \"content\": \"Describe some of the business applications of Generative AI\"}\n",
    "]"
   ]
  },
  {
   "cell_type": "code",
   "execution_count": 4,
   "id": "7bb9c624-14f0-4945-a719-8ddb64f66f47",
   "metadata": {},
   "outputs": [],
   "source": [
    "payload = {\n",
    "        \"model\": MODEL,\n",
    "        \"messages\": messages,\n",
    "        \"stream\": False\n",
    "    }"
   ]
  },
  {
   "cell_type": "code",
   "execution_count": 5,
   "id": "479ff514-e8bd-4985-a572-2ea28bb4fa40",
   "metadata": {},
   "outputs": [
    {
     "name": "stderr",
     "output_type": "stream",
     "text": [
      "\u001b[?25lpulling manifest â ‹ \u001b[?25h\u001b[?25l\u001b[2K\u001b[1Gpulling manifest â ™ \u001b[?25h\u001b[?25l\u001b[2K\u001b[1Gpulling manifest \n",
      "pulling 74701a8c35f6... 100% â–•â–ˆâ–ˆâ–ˆâ–ˆâ–ˆâ–ˆâ–ˆâ–ˆâ–ˆâ–ˆâ–ˆâ–ˆâ–ˆâ–ˆâ–ˆâ–ˆâ–� 1.3 GB                         \n",
      "pulling 966de95ca8a6... 100% â–•â–ˆâ–ˆâ–ˆâ–ˆâ–ˆâ–ˆâ–ˆâ–ˆâ–ˆâ–ˆâ–ˆâ–ˆâ–ˆâ–ˆâ–ˆâ–ˆâ–� 1.4 KB                         \n",
      "pulling fcc5a6bec9da... 100% â–•â–ˆâ–ˆâ–ˆâ–ˆâ–ˆâ–ˆâ–ˆâ–ˆâ–ˆâ–ˆâ–ˆâ–ˆâ–ˆâ–ˆâ–ˆâ–ˆâ–� 7.7 KB                         \n",
      "pulling a70ff7e570d9... 100% â–•â–ˆâ–ˆâ–ˆâ–ˆâ–ˆâ–ˆâ–ˆâ–ˆâ–ˆâ–ˆâ–ˆâ–ˆâ–ˆâ–ˆâ–ˆâ–ˆâ–� 6.0 KB                         \n",
      "pulling 4f659a1e86d7... 100% â–•â–ˆâ–ˆâ–ˆâ–ˆâ–ˆâ–ˆâ–ˆâ–ˆâ–ˆâ–ˆâ–ˆâ–ˆâ–ˆâ–ˆâ–ˆâ–ˆâ–�  485 B                         \n",
      "verifying sha256 digest \n",
      "writing manifest \n",
      "success \u001b[?25h\n"
     ]
    }
   ],
   "source": [
    "# Let's just make sure the model is loaded\n",
    "\n",
    "!ollama pull llama3.2:1b"
   ]
  },
  {
   "cell_type": "code",
   "execution_count": 7,
   "id": "42b9f644-522d-4e05-a691-56e7658c0ea9",
   "metadata": {},
   "outputs": [
    {
     "name": "stdout",
     "output_type": "stream",
     "text": [
      "Generative AI has numerous business applications across various industries. Here are some examples:\n",
      "\n",
      "1. **Content Generation**: Generative AI can create high-quality, engaging content like articles, social media posts, and product descriptions. Companies in industries such as marketing, advertising, and publishing use generative AI to create unique and personalized content that resonates with their target audience.\n",
      "2. **Product Design**: Generative AI can help companies design products, such as user interfaces, product layouts, and 3D models. This can lead to more efficient prototyping, reduced design time, and improved product quality.\n",
      "3. **Customer Service Chatbots**: Generative AI-powered chatbots can provide personalized customer service by generating responses to common queries, empathizing with customers, and even offering suggestions for problem-solving.\n",
      "4. **Predictive Maintenance**: Generative AI can analyze sensor data from machines and predict when maintenance is required. This helps companies reduce downtime, increase efficiency, and lower maintenance costs.\n",
      "5. **Medical Imaging Analysis**: Generative AI can assist in medical imaging analysis by generating 3D models of organs, detecting abnormalities, and identifying patterns that may indicate disease.\n",
      "6. **Supply Chain Optimization**: Generative AI can analyze data from various sources to optimize supply chain operations, such as predicting demand, routing logistics, and identifying the most efficient route for goods transportation.\n",
      "7. **Financial Modeling**: Generative AI can help financial institutions create complex models that simulate market conditions, predict stock prices, and identify potential risks.\n",
      "8. **Travel Planning**: Generative AI can suggest travel itineraries based on customer preferences, budget constraints, and destination requirements.\n",
      "9. **Automated Quality Control**: Generative AI can analyze images and videos to detect defects, anomalies, or other quality issues that may require human intervention.\n",
      "10. **Personalized Marketing**: Generative AI can create personalized marketing campaigns by analyzing customer behavior, preferences, and demographics to deliver targeted messages that resonate with individual customers.\n",
      "\n",
      "Some notable companies using generative AI in their business operations include:\n",
      "\n",
      "* Amazon (Generative Advertisements)\n",
      "* Google (Google Assistant, Google Photos)\n",
      "* Microsoft (Azure Machine Learning)\n",
      "* IBM (Watson Assistant)\n",
      "* Salesforce (Salesforce Einstein)\n",
      "\n",
      "These are just a few examples of the many business applications of Generative AI. As this technology continues to evolve, we can expect to see even more innovative uses across various industries.\n"
     ]
    }
   ],
   "source": [
    "# If this doesn't work for any reason, try the 2 versions in the following cells\n",
    "# And double check the instructions in the 'Recap on installation of Ollama' at the top of this lab\n",
    "# And if none of that works - contact me!\n",
    "\n",
    "response = requests.post(OLLAMA_API, json=payload, headers=HEADERS)\n",
    "print(response.json()['message']['content'])"
   ]
  },
  {
   "cell_type": "markdown",
   "id": "6a021f13-d6a1-4b96-8e18-4eae49d876fe",
   "metadata": {},
   "source": [
    "# Introducing the ollama package\n",
    "\n",
    "And now we'll do the same thing, but using the elegant ollama python package instead of a direct HTTP call.\n",
    "\n",
    "Under the hood, it's making the same call as above to the ollama server running at localhost:11434"
   ]
  },
  {
   "cell_type": "code",
   "execution_count": 8,
   "id": "7745b9c4-57dc-4867-9180-61fa5db55eb8",
   "metadata": {},
   "outputs": [
    {
     "name": "stdout",
     "output_type": "stream",
     "text": [
      "Generative AI, which involves creating new data or content based on patterns and algorithms, has a wide range of business applications. Here are some examples:\n",
      "\n",
      "1. **Content Creation**: Generative AI can be used to create high-quality, personalized content such as articles, product descriptions, social media posts, and even entire websites. This can save time and resources for businesses, allowing them to focus on more strategic tasks.\n",
      "2. **Product Design and Prototyping**: Generative AI can help designers create unique and innovative product designs by generating prototypes based on user feedback and preferences. This can be especially useful in industries like fashion, architecture, and engineering.\n",
      "3. **Personalized Customer Experience**: Generative AI can be used to create personalized content and offers for customers based on their demographics, behavior, and preferences. This can lead to increased customer satisfaction and loyalty.\n",
      "4. **Virtual Reality (VR) and Augmented Reality (AR)**: Generative AI can be used to create realistic virtual environments and objects in VR and AR experiences. This can enhance the user experience and make complex tasks more engaging.\n",
      "5. **Predictive Maintenance**: Generative AI can be used to predict equipment failures and schedule maintenance accordingly, reducing downtime and increasing productivity.\n",
      "6. **Chatbots and Customer Service**: Generative AI-powered chatbots can be trained to respond to customer inquiries and provide personalized support, improving the overall customer experience and reducing the workload of human customer service agents.\n",
      "7. **Predictive Analytics**: Generative AI can be used to generate predictive models that forecast sales, customer behavior, and market trends, helping businesses make data-driven decisions.\n",
      "8. **Marketing Automation**: Generative AI can be used to create personalized marketing campaigns based on user behavior and preferences, improving the effectiveness of marketing efforts.\n",
      "9. **Research and Development**: Generative AI can help researchers generate hypotheses, simulate experiments, and analyze large datasets, accelerating the development process and reducing costs.\n",
      "10. **Supply Chain Optimization**: Generative AI can be used to optimize supply chain operations by predicting demand, identifying bottlenecks, and suggesting optimal routes for delivery.\n",
      "\n",
      "These are just a few examples of the many business applications of generative AI. As the technology continues to evolve, we can expect to see even more innovative uses in various industries.\n"
     ]
    }
   ],
   "source": [
    "import ollama\n",
    "\n",
    "response = ollama.chat(model=MODEL, messages=messages)\n",
    "print(response['message']['content'])"
   ]
  },
  {
   "cell_type": "markdown",
   "id": "a4704e10-f5fb-4c15-a935-f046c06fb13d",
   "metadata": {},
   "source": [
    "## Alternative approach - using OpenAI python library to connect to Ollama"
   ]
  },
  {
   "cell_type": "code",
   "execution_count": null,
   "id": "23057e00-b6fc-4678-93a9-6b31cb704bff",
   "metadata": {},
   "outputs": [],
   "source": [
    "# There's actually an alternative approach that some people might prefer\n",
    "# You can use the OpenAI client python library to call Ollama:\n",
    "\n",
    "from openai import OpenAI\n",
    "ollama_via_openai = OpenAI(base_url='http://localhost:11434/v1', api_key='ollama')\n",
    "\n",
    "response = ollama_via_openai.chat.completions.create(\n",
    "    model=MODEL,\n",
    "    messages=messages\n",
    ")\n",
    "\n",
    "print(response.choices[0].message.content)"
   ]
  },
  {
   "cell_type": "markdown",
   "id": "1622d9bb-5c68-4d4e-9ca4-b492c751f898",
   "metadata": {},
   "source": [
    "# NOW the exercise for you\n",
    "\n",
    "Take the code from day1 and incorporate it here, to build a website summarizer that uses Llama 3.2 running locally instead of OpenAI; use either of the above approaches."
   ]
  },
  {
   "cell_type": "code",
   "execution_count": 9,
   "id": "402d5686-4e76-4110-b65a-b3906c35c0a4",
   "metadata": {},
   "outputs": [],
   "source": [
    "# A class to represent a Webpage\n",
    "# If you're not familiar with Classes, check out the \"Intermediate Python\" notebook\n",
    "\n",
    "# Some websites need you to use proper headers when fetching them:\n",
    "headers = {\n",
    " \"User-Agent\": \"Mozilla/5.0 (Windows NT 10.0; Win64; x64) AppleWebKit/537.36 (KHTML, like Gecko) Chrome/117.0.0.0 Safari/537.36\"\n",
    "}\n",
    "\n",
    "class Website:\n",
    "\n",
    "    def __init__(self, url):\n",
    "        \"\"\"\n",
    "        Create this Website object from the given url using the BeautifulSoup library\n",
    "        \"\"\"\n",
    "        self.url = url\n",
    "        response = requests.get(url, headers=headers)\n",
    "        soup = BeautifulSoup(response.content, 'html.parser')\n",
    "        self.title = soup.title.string if soup.title else \"No title found\"\n",
    "        for irrelevant in soup.body([\"script\", \"style\", \"img\", \"input\"]):\n",
    "            irrelevant.decompose()\n",
    "        self.text = soup.body.get_text(separator=\"\\n\", strip=True)"
   ]
  },
  {
   "cell_type": "code",
   "execution_count": 12,
   "id": "4c285420-10ab-474d-946a-08df0a0ec3d5",
   "metadata": {
    "collapsed": true,
    "jupyter": {
     "outputs_hidden": true
    },
    "scrolled": true
   },
   "outputs": [
    {
     "name": "stdout",
     "output_type": "stream",
     "text": [
      "Home - Full Stack Developer | Dany Makhoul\n",
      "About\n",
      "Services\n",
      "Branding\n",
      "Webdesign\n",
      "Web Development\n",
      "Blog\n",
      "Our Work\n",
      "Contact\n",
      "Fr\n",
      "Get In Touch\n",
      "About\n",
      "Services\n",
      "Branding\n",
      "Webdesign\n",
      "Web Development\n",
      "Blog\n",
      "Our Work\n",
      "Contact\n",
      "Fr\n",
      "We make\n",
      "websites\n",
      "that generate customers\n",
      "Our Work\n",
      "Get In Touch\n",
      "\n",
      "We Listen\n",
      "We listen to your story and ask essential questions to find out what the exact goal of your website is.\n",
      "\n",
      "We Think Along\n",
      "We use our experience and expertise to create a plan for your website that suits the goal(s) of your website.\n",
      "}\n",
      "We Are Fast\n",
      "We are passionate about what we do and love to show you the results within a reasonable time.\n",
      "Taste the atmosphere at Webdevine\n",
      "Webdevine\n",
      "is your one stop shop for web design and online marketing. From our studio in\n",
      "Los Angeles\n",
      "we take care of the online branding for your company. Having your website made at Webdevine ensures you of modern, well-thought-out web design and high conversion. Without hassle.\n",
      "There is a lot to look at when creating a website. Think of hosting, branding, SEO, SEA, (social) marketing and maintenance. You can worry about that, or you can let take care of everything.\n",
      "Nothing has to be done, but everything is possible\n",
      ".\n",
      "Your personal Webdevine account manager advises where necessary and guides you through the wonderful world of web design and online marketing.\n",
      "Awards we have won\n",
      "What we are really good at\n",
      "This is what we do\n",
      "\n",
      "01\n",
      "Branding\n",
      "Brand Scan\n",
      "Branding Strategy\n",
      "Logo Design\n",
      "\n",
      "02\n",
      "Webdesign\n",
      "Wireframing\n",
      "UI Design\n",
      "UX Design\n",
      "\n",
      "03\n",
      "Development\n",
      "Customization\n",
      "Webshops\n",
      "WordPress\n",
      "\n",
      "04\n",
      "Optimization\n",
      "SEO\n",
      "Advertisements\n",
      "Maintenance\n",
      "Websites Made\n",
      "Years of Experience\n",
      "Employees\n",
      "Awards\n",
      "Reach out to us\n",
      "Do you want to reach out for more information or see how we can help you? Feel free to reach out to us.\n",
      "Get In Touch\n",
      "Our Work\n",
      "Jayley Cosmetics\n",
      "Montana Prairie Gentian\n",
      "Wedding Lia and Daniel\n",
      "Your content goes here. Edit or remove this text inline or in the module Content settings. You can also style every aspect of this content in the module Design.\n",
      "Follow\n",
      "Follow\n",
      "Follow\n",
      "Follow\n",
      "Follow\n",
      "Quick Links\n",
      "Our Work\n",
      "Blog\n",
      "Contact\n",
      "Services\n",
      "Branding\n",
      "Webdesign\n",
      "Web Development\n",
      "SEO Check\n",
      "Logo Design\n",
      "Quick Links\n",
      "\n",
      "info@divi5.com\n",
      "\n",
      "1962 w 22nd St\n",
      "Los Angeles CA 90018-1560\n",
      "USA\n",
      "}\n",
      "Monday-Friday\n",
      "09:00AM – 5:00PM\n",
      "Contact Us\n",
      "© 2024 |\n",
      "Privacy Policy\n",
      "|\n",
      "Terms Of Use\n",
      "|\n",
      "Disclaimer\n",
      "| Website Made By\n",
      "Ferdy Korpershoek\n"
     ]
    }
   ],
   "source": [
    "# Let's try one out. Change the website and add print statements to follow along.\n",
    "\n",
    "dany = Website(\"https://danymakhoul.com\")\n",
    "print(dany.title)\n",
    "print(dany.text)"
   ]
  },
  {
   "cell_type": "code",
   "execution_count": 13,
   "id": "66697e82-8c37-4a09-ad03-910787a73d78",
   "metadata": {},
   "outputs": [],
   "source": [
    "# Define our system prompt - you can experiment with this later, changing the last sentence to 'Respond in markdown in Spanish.\"\n",
    "\n",
    "system_prompt = \"You are an assistant that analyzes the contents of a website \\\n",
    "and provides a short summary, ignoring text that might be navigation related. \\\n",
    "Respond in markdown.\""
   ]
  },
  {
   "cell_type": "code",
   "execution_count": 14,
   "id": "fd052607-2456-4a8f-a990-c676fb3e02f1",
   "metadata": {},
   "outputs": [],
   "source": [
    "# A function that writes a User Prompt that asks for summaries of websites:\n",
    "\n",
    "def user_prompt_for(website):\n",
    "    user_prompt = f\"You are looking at a website titled {website.title}\"\n",
    "    user_prompt += \"\\nThe contents of this website is as follows; \\\n",
    "please provide a short summary of this website in markdown. \\\n",
    "If it includes news or announcements, then summarize these too.\\n\\n\"\n",
    "    user_prompt += website.text\n",
    "    return user_prompt"
   ]
  },
  {
   "cell_type": "code",
   "execution_count": 15,
   "id": "c63b2863-c72d-41ac-a948-de3af2389a2f",
   "metadata": {
    "collapsed": true,
    "jupyter": {
     "outputs_hidden": true
    },
    "scrolled": true
   },
   "outputs": [
    {
     "name": "stdout",
     "output_type": "stream",
     "text": [
      "You are looking at a website titled Home - Full Stack Developer | Dany Makhoul\n",
      "The contents of this website is as follows; please provide a short summary of this website in markdown. If it includes news or announcements, then summarize these too.\n",
      "\n",
      "About\n",
      "Services\n",
      "Branding\n",
      "Webdesign\n",
      "Web Development\n",
      "Blog\n",
      "Our Work\n",
      "Contact\n",
      "Fr\n",
      "Get In Touch\n",
      "About\n",
      "Services\n",
      "Branding\n",
      "Webdesign\n",
      "Web Development\n",
      "Blog\n",
      "Our Work\n",
      "Contact\n",
      "Fr\n",
      "We make\n",
      "websites\n",
      "that generate customers\n",
      "Our Work\n",
      "Get In Touch\n",
      "\n",
      "We Listen\n",
      "We listen to your story and ask essential questions to find out what the exact goal of your website is.\n",
      "\n",
      "We Think Along\n",
      "We use our experience and expertise to create a plan for your website that suits the goal(s) of your website.\n",
      "}\n",
      "We Are Fast\n",
      "We are passionate about what we do and love to show you the results within a reasonable time.\n",
      "Taste the atmosphere at Webdevine\n",
      "Webdevine\n",
      "is your one stop shop for web design and online marketing. From our studio in\n",
      "Los Angeles\n",
      "we take care of the online branding for your company. Having your website made at Webdevine ensures you of modern, well-thought-out web design and high conversion. Without hassle.\n",
      "There is a lot to look at when creating a website. Think of hosting, branding, SEO, SEA, (social) marketing and maintenance. You can worry about that, or you can let take care of everything.\n",
      "Nothing has to be done, but everything is possible\n",
      ".\n",
      "Your personal Webdevine account manager advises where necessary and guides you through the wonderful world of web design and online marketing.\n",
      "Awards we have won\n",
      "What we are really good at\n",
      "This is what we do\n",
      "\n",
      "01\n",
      "Branding\n",
      "Brand Scan\n",
      "Branding Strategy\n",
      "Logo Design\n",
      "\n",
      "02\n",
      "Webdesign\n",
      "Wireframing\n",
      "UI Design\n",
      "UX Design\n",
      "\n",
      "03\n",
      "Development\n",
      "Customization\n",
      "Webshops\n",
      "WordPress\n",
      "\n",
      "04\n",
      "Optimization\n",
      "SEO\n",
      "Advertisements\n",
      "Maintenance\n",
      "Websites Made\n",
      "Years of Experience\n",
      "Employees\n",
      "Awards\n",
      "Reach out to us\n",
      "Do you want to reach out for more information or see how we can help you? Feel free to reach out to us.\n",
      "Get In Touch\n",
      "Our Work\n",
      "Jayley Cosmetics\n",
      "Montana Prairie Gentian\n",
      "Wedding Lia and Daniel\n",
      "Your content goes here. Edit or remove this text inline or in the module Content settings. You can also style every aspect of this content in the module Design.\n",
      "Follow\n",
      "Follow\n",
      "Follow\n",
      "Follow\n",
      "Follow\n",
      "Quick Links\n",
      "Our Work\n",
      "Blog\n",
      "Contact\n",
      "Services\n",
      "Branding\n",
      "Webdesign\n",
      "Web Development\n",
      "SEO Check\n",
      "Logo Design\n",
      "Quick Links\n",
      "\n",
      "info@divi5.com\n",
      "\n",
      "1962 w 22nd St\n",
      "Los Angeles CA 90018-1560\n",
      "USA\n",
      "}\n",
      "Monday-Friday\n",
      "09:00AM – 5:00PM\n",
      "Contact Us\n",
      "© 2024 |\n",
      "Privacy Policy\n",
      "|\n",
      "Terms Of Use\n",
      "|\n",
      "Disclaimer\n",
      "| Website Made By\n",
      "Ferdy Korpershoek\n"
     ]
    }
   ],
   "source": [
    "print(user_prompt_for(dany))"
   ]
  },
  {
   "cell_type": "code",
   "execution_count": 16,
   "id": "1fafdbe3-ac52-45a3-acf5-7ab7b8331889",
   "metadata": {},
   "outputs": [],
   "source": [
    "# See how this function creates exactly the format above\n",
    "\n",
    "def messages_for(website):\n",
    "    return [\n",
    "        {\"role\": \"system\", \"content\": system_prompt},\n",
    "        {\"role\": \"user\", \"content\": user_prompt_for(website)}\n",
    "    ]"
   ]
  },
  {
   "cell_type": "code",
   "execution_count": 18,
   "id": "dd9d67c3-d317-4824-9e75-9f0e876c92aa",
   "metadata": {
    "collapsed": true,
    "jupyter": {
     "outputs_hidden": true
    },
    "scrolled": true
   },
   "outputs": [
    {
     "data": {
      "text/plain": [
       "[{'role': 'system',\n",
       "  'content': 'You are an assistant that analyzes the contents of a website and provides a short summary, ignoring text that might be navigation related. Respond in markdown.'},\n",
       " {'role': 'user',\n",
       "  'content': 'You are looking at a website titled Home - Full Stack Developer | Dany Makhoul\\nThe contents of this website is as follows; please provide a short summary of this website in markdown. If it includes news or announcements, then summarize these too.\\n\\nAbout\\nServices\\nBranding\\nWebdesign\\nWeb Development\\nBlog\\nOur Work\\nContact\\nFr\\nGet In Touch\\nAbout\\nServices\\nBranding\\nWebdesign\\nWeb Development\\nBlog\\nOur Work\\nContact\\nFr\\nWe make\\nwebsites\\nthat generate customers\\nOur Work\\nGet In Touch\\n\\uf0eb\\nWe Listen\\nWe listen to your story and ask essential questions to find out what the exact goal of your website is.\\n\\uf2b5\\nWe Think Along\\nWe use our experience and expertise to create a plan for your website that suits the goal(s) of your website.\\n}\\nWe Are Fast\\nWe are passionate about what we do and love to show you the results within a reasonable time.\\nTaste the atmosphere at Webdevine\\nWebdevine\\nis your one stop shop for web design and online marketing. From our studio in\\nLos Angeles\\nwe take care of the online branding for your company. Having your website made at Webdevine ensures you of modern, well-thought-out web design and high conversion. Without hassle.\\nThere is a lot to look at when creating a website. Think of hosting, branding, SEO, SEA, (social) marketing and maintenance. You can worry about that, or you can let take care of everything.\\nNothing has to be done, but everything is possible\\n.\\nYour personal Webdevine account manager advises where necessary and guides you through the wonderful world of web design and online marketing.\\nAwards we have won\\nWhat we are really good at\\nThis is what we do\\n\\uf577\\n01\\nBranding\\nBrand Scan\\nBranding Strategy\\nLogo Design\\n\\uf5ae\\n02\\nWebdesign\\nWireframing\\nUI Design\\nUX Design\\n\\uf11c\\n03\\nDevelopment\\nCustomization\\nWebshops\\nWordPress\\n\\uf135\\n04\\nOptimization\\nSEO\\nAdvertisements\\nMaintenance\\nWebsites Made\\nYears of Experience\\nEmployees\\nAwards\\nReach out to us\\nDo you want to reach out for more information or see how we can help you? Feel free to reach out to us.\\nGet In Touch\\nOur Work\\nJayley Cosmetics\\nMontana Prairie Gentian\\nWedding Lia and Daniel\\nYour content goes here. Edit or remove this text inline or in the module Content settings. You can also style every aspect of this content in the module Design.\\nFollow\\nFollow\\nFollow\\nFollow\\nFollow\\nQuick Links\\nOur Work\\nBlog\\nContact\\nServices\\nBranding\\nWebdesign\\nWeb Development\\nSEO Check\\nLogo Design\\nQuick Links\\n\\ue010\\ninfo@divi5.com\\n\\uf3c5\\n1962 w 22nd St\\nLos Angeles CA 90018-1560\\nUSA\\n}\\nMonday-Friday\\n09:00AM – 5:00PM\\nContact Us\\n© 2024 |\\nPrivacy Policy\\n|\\nTerms Of Use\\n|\\nDisclaimer\\n| Website Made By\\nFerdy Korpershoek'}]"
      ]
     },
     "execution_count": 18,
     "metadata": {},
     "output_type": "execute_result"
    }
   ],
   "source": [
    "# Try this out, and then try for a few more websites\n",
    "\n",
    "messages_for(dany)"
   ]
  },
  {
   "cell_type": "code",
   "execution_count": 25,
   "id": "a5566c06-78f7-4871-bba2-db44ac718c89",
   "metadata": {},
   "outputs": [],
   "source": [
    "# And now: call the OpenAI API. You will get very familiar with this!\n",
    "import ollama\n",
    "\n",
    "def summarize(url):\n",
    "    website = Website(url)\n",
    "    response = ollama.chat(model=MODEL, messages=messages_for(website))\n",
    "    return response['message']['content']"
   ]
  },
  {
   "cell_type": "code",
   "execution_count": 20,
   "id": "8ee898b2-4b71-4f30-9598-f83140de0a1e",
   "metadata": {},
   "outputs": [
    {
     "data": {
      "text/plain": [
       "\"### Home - Full Stack Developer | Dany Makhoul\\n#### Summary in Markdown\\n* This is a website for a full stack developer, offering services and expertise in web development, branding, and online marketing.\\n* The website claims to make websites that generate customers by listening to the client's story and goals, then creating a plan and design accordingly.\\n* It also mentions awards and experience as a personal Webdevine account manager.\\n\\n#### News or Announcements\\nThere are no explicit announcements or news items on this website.\""
      ]
     },
     "execution_count": 20,
     "metadata": {},
     "output_type": "execute_result"
    }
   ],
   "source": [
    "summarize(\"https://fireeagle97.github.io/\")"
   ]
  },
  {
   "cell_type": "code",
   "execution_count": 21,
   "id": "f8e23426-debb-4440-bf9c-dfd9db46f982",
   "metadata": {},
   "outputs": [],
   "source": [
    "# A function to display this nicely in the Jupyter output, using markdown\n",
    "\n",
    "def display_summary(url):\n",
    "    summary = summarize(url)\n",
    "    display(Markdown(summary))"
   ]
  },
  {
   "cell_type": "code",
   "execution_count": 27,
   "id": "035292b6-8978-48aa-a869-504ea4fddba6",
   "metadata": {
    "scrolled": true
   },
   "outputs": [
    {
     "data": {
      "text/markdown": [
       "### Summary\n",
       "Dany Makhoul's professional online presence is centered around his work as a computer science graduate, showcasing his skills and experience in web development, software engineering, and problem-solving. He has worked on various projects, including backend development, front-end design, and database management.\n",
       "\n",
       "### News/Announcements\n",
       "\n",
       "* The website mentions that Dany Makhoul participated in the McGill University's McHacks 2024 hackathon, where he earned 2nd place.\n",
       "* There are no other prominent announcements or news items mentioned on this page."
      ],
      "text/plain": [
       "<IPython.core.display.Markdown object>"
      ]
     },
     "metadata": {},
     "output_type": "display_data"
    }
   ],
   "source": [
    "display_summary(\"https://fireeagle97.github.io/\")"
   ]
  },
  {
   "cell_type": "code",
   "execution_count": 26,
   "id": "796a3969-cffd-4f23-9b07-3bea7bdb9254",
   "metadata": {},
   "outputs": [
    {
     "data": {
      "text/markdown": [
       "The article lists various news and updates from around the world for the year 2024, including:\n",
       "\n",
       "1. **Global Events**\n",
       "\t* The United States Senate confirms Ketanji Brown Jackson as the first African American woman to serve on the Supreme Court.\n",
       "\t* Russia imposes sanctions on several countries in response to Ukraine's actions.\n",
       "2. **Science and Technology**\n",
       "\t* Scientists discover a new species of ancient human in Siberia.\n",
       "\t* A team of researchers develops a new method for recycling rare earth metals, which could help address global energy needs.\n",
       "3. **Business and Economics**\n",
       "\t* The US economy grows at its fastest pace since 2000.\n",
       "\t* Tech companies raise billions of dollars through initial public offerings (IPOs).\n",
       "4. **Health and Medicine**\n",
       "\t* A new COVID-19 vaccine is approved for emergency use in several countries.\n",
       "\t* Researchers develop a treatment for Alzheimer's disease that shows promise in early clinical trials.\n",
       "5. **Environment and Climate Change**\n",
       "\t* Global temperatures rise by 0.3°C (0.54°F) due to climate change.\n",
       "\t* The United Nations reports on the impacts of climate change on vulnerable communities around the world.\n",
       "\n",
       "Some notable mentions include:\n",
       "\n",
       "* Trump's energy strategy, which is expected to be met with opposition from Democrats and environmental groups.\n",
       "* The US government's efforts to combat gun violence after a mass shooting in Texas.\n",
       "* A new conflict between Ukraine and Russia over its actions in Eastern Europe.\n",
       "* The continued controversy surrounding the 2024 presidential election in the United States.\n",
       "\n",
       "Overall, the article provides a snapshot of some of the major news stories and developments that will likely shape global events in 2024."
      ],
      "text/plain": [
       "<IPython.core.display.Markdown object>"
      ]
     },
     "metadata": {},
     "output_type": "display_data"
    }
   ],
   "source": [
    "display_summary(\"https://cnn.com\")"
   ]
  },
  {
   "cell_type": "code",
   "execution_count": null,
   "id": "c5c299db-64dc-4277-8ebd-6fc92de248ee",
   "metadata": {},
   "outputs": [],
   "source": []
  }
 ],
 "metadata": {
  "kernelspec": {
   "display_name": "Python 3 (ipykernel)",
   "language": "python",
   "name": "python3"
  },
  "language_info": {
   "codemirror_mode": {
    "name": "ipython",
    "version": 3
   },
   "file_extension": ".py",
   "mimetype": "text/x-python",
   "name": "python",
   "nbconvert_exporter": "python",
   "pygments_lexer": "ipython3",
   "version": "3.11.11"
  }
 },
 "nbformat": 4,
 "nbformat_minor": 5
}
