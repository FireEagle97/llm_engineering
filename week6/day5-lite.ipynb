{
 "cells": [
  {
   "cell_type": "markdown",
   "id": "db8736a7-ed94-441c-9556-831fa57b5a10",
   "metadata": {},
   "source": [
    "# The Product Pricer Continued\n",
    "\n",
    "A model that can estimate how much something costs, from its description.\n",
    "\n",
    "## AT LAST - it's time for Fine Tuning!\n",
    "\n",
    "After all this data preparation, and old school machine learning, we've finally arrived at the moment you've been waiting for. Fine-tuning a model."
   ]
  },
  {
   "cell_type": "code",
   "execution_count": 1,
   "id": "681c717b-4c24-4ac3-a5f3-3c5881d6e70a",
   "metadata": {},
   "outputs": [],
   "source": [
    "# imports\n",
    "\n",
    "import os\n",
    "import re\n",
    "import math\n",
    "import json\n",
    "import random\n",
    "from dotenv import load_dotenv\n",
    "from huggingface_hub import login\n",
    "from items import Item\n",
    "import matplotlib.pyplot as plt\n",
    "import numpy as np\n",
    "import pickle\n",
    "from collections import Counter\n",
    "from openai import OpenAI\n",
    "from anthropic import Anthropic"
   ]
  },
  {
   "cell_type": "code",
   "execution_count": 2,
   "id": "21a3833e-4093-43b0-8f7b-839c50b911ea",
   "metadata": {},
   "outputs": [],
   "source": [
    "# moved our Tester into a separate package\n",
    "# call it with Tester.test(function_name, test_dataset)\n",
    "\n",
    "from testing import Tester"
   ]
  },
  {
   "cell_type": "code",
   "execution_count": 3,
   "id": "36d05bdc-0155-4c72-a7ee-aa4e614ffd3c",
   "metadata": {},
   "outputs": [],
   "source": [
    "# environment\n",
    "\n",
    "load_dotenv()\n",
    "os.environ['OPENAI_API_KEY'] = os.getenv('OPENAI_API_KEY', 'your-key-if-not-using-env')\n",
    "os.environ['ANTHROPIC_API_KEY'] = os.getenv('ANTHROPIC_API_KEY', 'your-key-if-not-using-env')\n",
    "os.environ['HF_TOKEN'] = os.getenv('HF_TOKEN', 'your-key-if-not-using-env')"
   ]
  },
  {
   "cell_type": "code",
   "execution_count": 4,
   "id": "4dd3aad2-6f99-433c-8792-e461d2f06622",
   "metadata": {},
   "outputs": [
    {
     "name": "stderr",
     "output_type": "stream",
     "text": [
      "Note: Environment variable`HF_TOKEN` is set and is the current active token independently from the token you've just configured.\n"
     ]
    }
   ],
   "source": [
    "# Log in to HuggingFace\n",
    "\n",
    "hf_token = os.environ['HF_TOKEN']\n",
    "login(hf_token, add_to_git_credential=True)"
   ]
  },
  {
   "cell_type": "code",
   "execution_count": 5,
   "id": "b0a6fb86-74a4-403c-ab25-6db2d74e9d2b",
   "metadata": {},
   "outputs": [],
   "source": [
    "openai = OpenAI()"
   ]
  },
  {
   "cell_type": "code",
   "execution_count": 6,
   "id": "c830ed3e-24ee-4af6-a07b-a1bfdcd39278",
   "metadata": {},
   "outputs": [],
   "source": [
    "%matplotlib inline"
   ]
  },
  {
   "cell_type": "code",
   "execution_count": 7,
   "id": "5c9b05f4-c9eb-462c-8d86-de9140a2d985",
   "metadata": {},
   "outputs": [],
   "source": [
    "# Let's avoid curating all our data again! Load in the pickle files:\n",
    "\n",
    "with open('train_lite.pkl', 'rb') as file:\n",
    "    train = pickle.load(file)\n",
    "\n",
    "with open('test_lite.pkl', 'rb') as file:\n",
    "    test = pickle.load(file)"
   ]
  },
  {
   "cell_type": "code",
   "execution_count": 8,
   "id": "e8367135-f40e-43e1-8f3c-09e990ab1194",
   "metadata": {},
   "outputs": [],
   "source": [
    "# OpenAI recommends fine-tuning with populations of 50-100 examples\n",
    "# But as our examples are very small, I'm suggesting we go with 200 examples (and 1 epoch)\n",
    "\n",
    "fine_tune_train = train[:200]\n",
    "fine_tune_validation = train[200:250]"
   ]
  },
  {
   "cell_type": "markdown",
   "id": "8be4a889-81c3-42b1-a2fc-034cdc7321a6",
   "metadata": {},
   "source": [
    "# Step 1\n",
    "\n",
    "Prepare our data for fine-tuning in JSONL (JSON Lines) format and upload to OpenAI"
   ]
  },
  {
   "cell_type": "code",
   "execution_count": 9,
   "id": "8ae2fb3c-1cff-4ce3-911e-627c970edd7b",
   "metadata": {},
   "outputs": [],
   "source": [
    "# First let's work on a good prompt for a Frontier model\n",
    "# Notice that I'm removing the \" to the nearest dollar\"\n",
    "# When we train our own models, we'll need to make the problem as easy as possible, \n",
    "# but a Frontier model needs no such simplification.\n",
    "\n",
    "def messages_for(item):\n",
    "    system_message = \"You estimate prices of items. Reply only with the price, no explanation\"\n",
    "    user_prompt = item.test_prompt().replace(\" to the nearest dollar\",\"\").replace(\"\\n\\nPrice is $\",\"\")\n",
    "    return [\n",
    "        {\"role\": \"system\", \"content\": system_message},\n",
    "        {\"role\": \"user\", \"content\": user_prompt},\n",
    "        {\"role\": \"assistant\", \"content\": f\"Price is ${item.price:.2f}\"}\n",
    "    ]"
   ]
  },
  {
   "cell_type": "code",
   "execution_count": 10,
   "id": "1aa280f6-1227-426a-a2e2-1ce985feba1e",
   "metadata": {},
   "outputs": [
    {
     "data": {
      "text/plain": [
       "[{'role': 'system',\n",
       "  'content': 'You estimate prices of items. Reply only with the price, no explanation'},\n",
       " {'role': 'user',\n",
       "  'content': 'How much does this cost?\\n\\nand Replacement Range Cooktop Drip Pans fit GE, Hotpoint - Two 6 Inch and Two 8 Inch Pans (4 pieces)\\nContents 2 x (6 inches) and 2 x (8 inches) bowls, 4 drip bowls total Compatibility This replacement kit works with GE, Hotpoint, Moffat, Monogram (GE), Profile (GE), RCA (GE), and Roper models prior to 1996. replaces 65975, replaces and 65974, 770169 Premium quality Drip bowls are made of durable high-quality material. It features a chrome finish, well-tested by the manufacturer. Durable, stick-free, easy to clean, and dishwasher safe. Ensure long-lasting and effective performance Easy to install Shut off electrical power, tilt the coil'},\n",
       " {'role': 'assistant', 'content': 'Price is $11.99'}]"
      ]
     },
     "execution_count": 10,
     "metadata": {},
     "output_type": "execute_result"
    }
   ],
   "source": [
    "messages_for(train[0])"
   ]
  },
  {
   "cell_type": "code",
   "execution_count": 11,
   "id": "c0e5b56c-8a0b-4d8e-a112-ce87efb4e152",
   "metadata": {},
   "outputs": [],
   "source": [
    "# Convert the items into a list of json objects - a \"jsonl\" string\n",
    "# Each row represents a message in the form:\n",
    "# {\"messages\" : [{\"role\": \"system\", \"content\": \"You estimate prices...\n",
    "\n",
    "\n",
    "def make_jsonl(items):\n",
    "    result = \"\"\n",
    "    for item in items:\n",
    "        messages = messages_for(item)\n",
    "        messages_str = json.dumps(messages)\n",
    "        result += '{\"messages\": ' + messages_str +'}\\n'\n",
    "    return result.strip()"
   ]
  },
  {
   "cell_type": "code",
   "execution_count": 12,
   "id": "5e72de93-a6a6-4b35-855e-15786b97bf5f",
   "metadata": {},
   "outputs": [
    {
     "name": "stdout",
     "output_type": "stream",
     "text": [
      "{\"messages\": [{\"role\": \"system\", \"content\": \"You estimate prices of items. Reply only with the price, no explanation\"}, {\"role\": \"user\", \"content\": \"How much does this cost?\\n\\nand Replacement Range Cooktop Drip Pans fit GE, Hotpoint - Two 6 Inch and Two 8 Inch Pans (4 pieces)\\nContents 2 x (6 inches) and 2 x (8 inches) bowls, 4 drip bowls total Compatibility This replacement kit works with GE, Hotpoint, Moffat, Monogram (GE), Profile (GE), RCA (GE), and Roper models prior to 1996. replaces 65975, replaces and 65974, 770169 Premium quality Drip bowls are made of durable high-quality material. It features a chrome finish, well-tested by the manufacturer. Durable, stick-free, easy to clean, and dishwasher safe. Ensure long-lasting and effective performance Easy to install Shut off electrical power, tilt the coil\"}, {\"role\": \"assistant\", \"content\": \"Price is $11.99\"}]}\n",
      "{\"messages\": [{\"role\": \"system\", \"content\": \"You estimate prices of items. Reply only with the price, no explanation\"}, {\"role\": \"user\", \"content\": \"How much does this cost?\\n\\nPanda Small Portable Washing Machine, 1.54 cu.ft, 8 Wash Programs, Top Load Clothes Washer, Gray\\nIt is a space-saving design which makes your laundry easy and simple. It is perfect for Apartment, RV, Vacation Home, Dorm, and second washer for your house. Lager size 1.54 cu.ft capacity, timeless design, portable and lightweight to carry around, regular 3 prongs 110 Voltage which can be plugged anywhere. Electronic controls with LED display. 8 washing programs and 4 water levels, Stainless steel drum is durable and resists rust and chipping. Connect the washer directly to your faucet with the included quick connect adapter kit and hoses. Brand Name Panda, Model Info Weight 55 Pounds, Dimensions 19.5\\\\ D x\"}, {\"role\": \"assistant\", \"content\": \"Price is $261.27\"}]}\n",
      "{\"messages\": [{\"role\": \"system\", \"content\": \"You estimate prices of items. Reply only with the price, no explanation\"}, {\"role\": \"user\", \"content\": \"How much does this cost?\\n\\nFrigidaire Refrigerator Crisper Cover\\nThis is a Genuine Replacement Part, the Model Number and Name for the Following Item Frigidaire (FRIGB) Crisper Cover. The Frigidaire Refrigerator Crisper Cover is a genuine original equipment (OEM) replacement part Frigidaire (FRIGB) This is a genuine replacement part Refrigerator-replacement-parts This is an O.E.M. part It is compatible with Whirlpool, Kenmore, Amana, Maytag, KitchenAid and GE models Frigidaire (FRIGB) This is a genuine replacement part Refrigerator-replacement-parts Brand Name Frigidaire, Model Info Weight 3.69 pounds, Dimensions 34 x 4.38 x 22.63\"}, {\"role\": \"assistant\", \"content\": \"Price is $84.99\"}]}\n"
     ]
    }
   ],
   "source": [
    "print(make_jsonl(train[:3]))"
   ]
  },
  {
   "cell_type": "code",
   "execution_count": 13,
   "id": "7734bff0-95c4-4e67-a87e-7e2254e2c67d",
   "metadata": {},
   "outputs": [],
   "source": [
    "# Convert the items into jsonl and write them to a file\n",
    "\n",
    "def write_jsonl(items, filename):\n",
    "    with open(filename, \"w\") as f:\n",
    "        jsonl = make_jsonl(items)\n",
    "        f.write(jsonl)"
   ]
  },
  {
   "cell_type": "code",
   "execution_count": 14,
   "id": "393d3ad8-999a-4f99-8c04-339d9166d604",
   "metadata": {},
   "outputs": [],
   "source": [
    "write_jsonl(fine_tune_train, \"fine_tune_train_lite.jsonl\")"
   ]
  },
  {
   "cell_type": "code",
   "execution_count": 15,
   "id": "8e23927f-d73e-4668-ac20-abe6f14a56cb",
   "metadata": {},
   "outputs": [],
   "source": [
    "write_jsonl(fine_tune_validation, \"fine_tune_validation_lite.jsonl\")"
   ]
  },
  {
   "cell_type": "code",
   "execution_count": 16,
   "id": "d59ad8d2-c61a-448e-b7ed-232f1606970f",
   "metadata": {},
   "outputs": [],
   "source": [
    "with open(\"fine_tune_train_lite.jsonl\", \"rb\") as f:\n",
    "    train_file = openai.files.create(file=f, purpose=\"fine-tune\")"
   ]
  },
  {
   "cell_type": "code",
   "execution_count": 17,
   "id": "083fefba-fd54-47ce-9ff3-aabbc200846f",
   "metadata": {},
   "outputs": [
    {
     "data": {
      "text/plain": [
       "FileObject(id='file-PxBYL84f8yoGGkC4ruHc8M', bytes=194304, created_at=1742909527, filename='fine_tune_train_lite.jsonl', object='file', purpose='fine-tune', status='processed', status_details=None, expires_at=None)"
      ]
     },
     "execution_count": 17,
     "metadata": {},
     "output_type": "execute_result"
    }
   ],
   "source": [
    "train_file"
   ]
  },
  {
   "cell_type": "code",
   "execution_count": 18,
   "id": "97df3360-0760-4422-a556-5f26d23de6dc",
   "metadata": {},
   "outputs": [],
   "source": [
    "with open(\"fine_tune_validation_lite.jsonl\", \"rb\") as f:\n",
    "    validation_file = openai.files.create(file=f, purpose=\"fine-tune\")"
   ]
  },
  {
   "cell_type": "code",
   "execution_count": 19,
   "id": "a1abb8f3-9e52-4061-970c-fcf399d8ffa3",
   "metadata": {},
   "outputs": [
    {
     "data": {
      "text/plain": [
       "FileObject(id='file-Er59y8Z6sbHreQLJUNAUVy', bytes=48170, created_at=1742909534, filename='fine_tune_validation_lite.jsonl', object='file', purpose='fine-tune', status='processed', status_details=None, expires_at=None)"
      ]
     },
     "execution_count": 19,
     "metadata": {},
     "output_type": "execute_result"
    }
   ],
   "source": [
    "validation_file"
   ]
  },
  {
   "cell_type": "markdown",
   "id": "466052b9-9fb9-48f6-8cf9-c74e6ddc1394",
   "metadata": {},
   "source": [
    "# Step 2\n",
    "\n",
    "I love Weights and Biases - a beautiful, free platform for monitoring training runs.  \n",
    "Weights and Biases is integrated with OpenAI for fine-tuning.\n",
    "\n",
    "First set up your weights & biases free account at:\n",
    "\n",
    "https://wandb.ai\n",
    "\n",
    "From the Avatar >> Settings menu, near the bottom, you can create an API key.\n",
    "\n",
    "Then visit the OpenAI dashboard at:\n",
    "\n",
    "https://platform.openai.com/account/organization\n",
    "\n",
    "In the integrations section, you can add your Weights & Biases key.\n",
    "\n",
    "## And now time to Fine-tune!"
   ]
  },
  {
   "cell_type": "code",
   "execution_count": 23,
   "id": "c7add1a7-a746-4d6e-a5f8-e25629b8b527",
   "metadata": {},
   "outputs": [],
   "source": [
    "wandb_integration = {\"type\": \"wandb\", \"wandb\": {\"project\": \"gpt-pricer_lite\"}}"
   ]
  },
  {
   "cell_type": "code",
   "execution_count": 24,
   "id": "49801e69-9277-4deb-9f33-99efb6b45ac2",
   "metadata": {},
   "outputs": [
    {
     "data": {
      "text/plain": [
       "'file-PxBYL84f8yoGGkC4ruHc8M'"
      ]
     },
     "execution_count": 24,
     "metadata": {},
     "output_type": "execute_result"
    }
   ],
   "source": [
    "train_file.id"
   ]
  },
  {
   "cell_type": "code",
   "execution_count": 25,
   "id": "45421b86-5531-4e42-ab19-d6abbb8f4c13",
   "metadata": {},
   "outputs": [
    {
     "data": {
      "text/plain": [
       "FineTuningJob(id='ftjob-i8XxxYWuYqxFV7yQ29Sfzpdr', created_at=1742909816, error=Error(code=None, message=None, param=None), fine_tuned_model=None, finished_at=None, hyperparameters=Hyperparameters(batch_size='auto', learning_rate_multiplier='auto', n_epochs=1), model='gpt-4o-mini-2024-07-18', object='fine_tuning.job', organization_id='org-aptPJRseBjXKfBkXtMr3iUYC', result_files=[], seed=42, status='validating_files', trained_tokens=None, training_file='file-PxBYL84f8yoGGkC4ruHc8M', validation_file='file-Er59y8Z6sbHreQLJUNAUVy', estimated_finish=None, integrations=[FineTuningJobWandbIntegrationObject(type='wandb', wandb=FineTuningJobWandbIntegration(project='gpt-pricer_lite', entity=None, name=None, tags=None, run_id='ftjob-i8XxxYWuYqxFV7yQ29Sfzpdr'))], method=Method(dpo=None, supervised=MethodSupervised(hyperparameters=MethodSupervisedHyperparameters(batch_size='auto', learning_rate_multiplier='auto', n_epochs=1)), type='supervised'), user_provided_suffix='pricer', metadata=None)"
      ]
     },
     "execution_count": 25,
     "metadata": {},
     "output_type": "execute_result"
    }
   ],
   "source": [
    "openai.fine_tuning.jobs.create(\n",
    "    training_file=train_file.id,\n",
    "    validation_file=validation_file.id,\n",
    "    model=\"gpt-4o-mini-2024-07-18\",\n",
    "    seed=42,\n",
    "    hyperparameters={\"n_epochs\": 1},\n",
    "    integrations = [wandb_integration],\n",
    "    suffix=\"pricer\"\n",
    ")"
   ]
  },
  {
   "cell_type": "code",
   "execution_count": 26,
   "id": "aeb9de2e-542c-4e83-81c7-b6745133e48b",
   "metadata": {},
   "outputs": [
    {
     "data": {
      "text/plain": [
       "SyncCursorPage[FineTuningJob](data=[FineTuningJob(id='ftjob-i8XxxYWuYqxFV7yQ29Sfzpdr', created_at=1742909816, error=Error(code=None, message=None, param=None), fine_tuned_model=None, finished_at=None, hyperparameters=Hyperparameters(batch_size='auto', learning_rate_multiplier='auto', n_epochs=1), model='gpt-4o-mini-2024-07-18', object='fine_tuning.job', organization_id='org-aptPJRseBjXKfBkXtMr3iUYC', result_files=[], seed=42, status='validating_files', trained_tokens=None, training_file='file-PxBYL84f8yoGGkC4ruHc8M', validation_file='file-Er59y8Z6sbHreQLJUNAUVy', estimated_finish=None, integrations=[FineTuningJobWandbIntegrationObject(type='wandb', wandb=FineTuningJobWandbIntegration(project='gpt-pricer_lite', entity=None, name=None, tags=None, run_id='ftjob-i8XxxYWuYqxFV7yQ29Sfzpdr'))], method=Method(dpo=None, supervised=MethodSupervised(hyperparameters=MethodSupervisedHyperparameters(batch_size='auto', learning_rate_multiplier='auto', n_epochs=1)), type='supervised'), user_provided_suffix='pricer', metadata=None)], object='list', has_more=True)"
      ]
     },
     "execution_count": 26,
     "metadata": {},
     "output_type": "execute_result"
    }
   ],
   "source": [
    "openai.fine_tuning.jobs.list(limit=1)"
   ]
  },
  {
   "cell_type": "code",
   "execution_count": 27,
   "id": "40d24873-8ff5-413f-b0d4-8f77c28f18e1",
   "metadata": {},
   "outputs": [],
   "source": [
    "job_id = openai.fine_tuning.jobs.list(limit=1).data[0].id"
   ]
  },
  {
   "cell_type": "code",
   "execution_count": 28,
   "id": "a32aef35-4b38-436c-ad00-d082f758efa7",
   "metadata": {},
   "outputs": [
    {
     "data": {
      "text/plain": [
       "'ftjob-i8XxxYWuYqxFV7yQ29Sfzpdr'"
      ]
     },
     "execution_count": 28,
     "metadata": {},
     "output_type": "execute_result"
    }
   ],
   "source": [
    "job_id"
   ]
  },
  {
   "cell_type": "code",
   "execution_count": 29,
   "id": "a7e01247-c133-48e1-93d3-c79c399e6178",
   "metadata": {},
   "outputs": [
    {
     "data": {
      "text/plain": [
       "FineTuningJob(id='ftjob-i8XxxYWuYqxFV7yQ29Sfzpdr', created_at=1742909816, error=Error(code=None, message=None, param=None), fine_tuned_model=None, finished_at=None, hyperparameters=Hyperparameters(batch_size='auto', learning_rate_multiplier='auto', n_epochs=1), model='gpt-4o-mini-2024-07-18', object='fine_tuning.job', organization_id='org-aptPJRseBjXKfBkXtMr3iUYC', result_files=[], seed=42, status='validating_files', trained_tokens=None, training_file='file-PxBYL84f8yoGGkC4ruHc8M', validation_file='file-Er59y8Z6sbHreQLJUNAUVy', estimated_finish=None, integrations=[FineTuningJobWandbIntegrationObject(type='wandb', wandb=FineTuningJobWandbIntegration(project='gpt-pricer_lite', entity=None, name=None, tags=None, run_id='ftjob-i8XxxYWuYqxFV7yQ29Sfzpdr'))], method=Method(dpo=None, supervised=MethodSupervised(hyperparameters=MethodSupervisedHyperparameters(batch_size='auto', learning_rate_multiplier='auto', n_epochs=1)), type='supervised'), user_provided_suffix='pricer', metadata=None)"
      ]
     },
     "execution_count": 29,
     "metadata": {},
     "output_type": "execute_result"
    }
   ],
   "source": [
    "openai.fine_tuning.jobs.retrieve(job_id)"
   ]
  },
  {
   "cell_type": "code",
   "execution_count": 34,
   "id": "0f5150e1-b8de-485f-8eba-cf1e5b00c117",
   "metadata": {},
   "outputs": [
    {
     "data": {
      "text/plain": [
       "[FineTuningJobEvent(id='ftevent-xJuVqd7opAAI1jfzJsYGI4cs', created_at=1742910421, level='info', message='The job has successfully completed', object='fine_tuning.job.event', data={}, type='message'),\n",
       " FineTuningJobEvent(id='ftevent-bZIglyhdqnX1XdmVwNHyY0Hq', created_at=1742910404, level='info', message='New fine-tuned model created', object='fine_tuning.job.event', data={}, type='message'),\n",
       " FineTuningJobEvent(id='ftevent-QuDR9rP9Sp7QNgfaJhsLnFJM', created_at=1742910358, level='info', message='Step 200/200: training loss=2.00, validation loss=0.52, full validation loss=0.90', object='fine_tuning.job.event', data={'step': 200, 'train_loss': 2.001863718032837, 'valid_loss': 0.5228762626647949, 'total_steps': 200, 'full_valid_loss': 0.900644793510437, 'train_mean_token_accuracy': 0.75, 'valid_mean_token_accuracy': 0.875, 'full_valid_mean_token_accuracy': 0.8025}, type='metrics'),\n",
       " FineTuningJobEvent(id='ftevent-o2PV5BAJvaV4YPyx6vOF8PKM', created_at=1742910347, level='info', message='Step 199/200: training loss=0.77', object='fine_tuning.job.event', data={'step': 199, 'train_loss': 0.7728734016418457, 'total_steps': 200, 'train_mean_token_accuracy': 0.75}, type='metrics'),\n",
       " FineTuningJobEvent(id='ftevent-4iXI3VNFvmVb6qMam9eOX8DJ', created_at=1742910347, level='info', message='Step 198/200: training loss=0.95', object='fine_tuning.job.event', data={'step': 198, 'train_loss': 0.9526262283325195, 'total_steps': 200, 'train_mean_token_accuracy': 0.75}, type='metrics'),\n",
       " FineTuningJobEvent(id='ftevent-NqPopjPOsflDgAA2wNP4cqXQ', created_at=1742910347, level='info', message='Step 197/200: training loss=1.45', object='fine_tuning.job.event', data={'step': 197, 'train_loss': 1.4521863460540771, 'total_steps': 200, 'train_mean_token_accuracy': 0.75}, type='metrics'),\n",
       " FineTuningJobEvent(id='ftevent-B40YlZUkEaW7iBYSBE59f1uk', created_at=1742910344, level='info', message='Step 196/200: training loss=1.05', object='fine_tuning.job.event', data={'step': 196, 'train_loss': 1.048210859298706, 'total_steps': 200, 'train_mean_token_accuracy': 0.75}, type='metrics'),\n",
       " FineTuningJobEvent(id='ftevent-Gfgmr0GfGA0SZO325WAJOUu9', created_at=1742910344, level='info', message='Step 195/200: training loss=1.30', object='fine_tuning.job.event', data={'step': 195, 'train_loss': 1.3016643524169922, 'total_steps': 200, 'train_mean_token_accuracy': 0.75}, type='metrics'),\n",
       " FineTuningJobEvent(id='ftevent-Ibl3BBR1d285v0A555JiVGtk', created_at=1742910344, level='info', message='Step 194/200: training loss=0.84', object='fine_tuning.job.event', data={'step': 194, 'train_loss': 0.8357596397399902, 'total_steps': 200, 'train_mean_token_accuracy': 0.75}, type='metrics'),\n",
       " FineTuningJobEvent(id='ftevent-88BUjqhrY3spsjMOGLrSfvX6', created_at=1742910341, level='info', message='Step 193/200: training loss=1.59', object='fine_tuning.job.event', data={'step': 193, 'train_loss': 1.5891478061676025, 'total_steps': 200, 'train_mean_token_accuracy': 0.625}, type='metrics')]"
      ]
     },
     "execution_count": 34,
     "metadata": {},
     "output_type": "execute_result"
    }
   ],
   "source": [
    "openai.fine_tuning.jobs.list_events(fine_tuning_job_id=job_id, limit=10).data"
   ]
  },
  {
   "cell_type": "markdown",
   "id": "066fef03-8338-4526-9df3-89b649ad4f0a",
   "metadata": {},
   "source": [
    "# Step 3\n",
    "\n",
    "Test our fine tuned model"
   ]
  },
  {
   "cell_type": "code",
   "execution_count": 35,
   "id": "fa4488cb-3c17-4eda-abd1-53c1c68a491b",
   "metadata": {},
   "outputs": [],
   "source": [
    "fine_tuned_model_name = openai.fine_tuning.jobs.retrieve(job_id).fine_tuned_model"
   ]
  },
  {
   "cell_type": "code",
   "execution_count": 36,
   "id": "e9370937-5a6f-4724-8265-b208663b4450",
   "metadata": {},
   "outputs": [
    {
     "data": {
      "text/plain": [
       "'ft:gpt-4o-mini-2024-07-18:personal:pricer:BEyu13fI'"
      ]
     },
     "execution_count": 36,
     "metadata": {},
     "output_type": "execute_result"
    }
   ],
   "source": [
    "fine_tuned_model_name"
   ]
  },
  {
   "cell_type": "code",
   "execution_count": 37,
   "id": "66ea68e8-ab1b-4f0d-aba4-a59574d8f85e",
   "metadata": {},
   "outputs": [],
   "source": [
    "# The prompt\n",
    "\n",
    "def messages_for(item):\n",
    "    system_message = \"You estimate prices of items. Reply only with the price, no explanation\"\n",
    "    user_prompt = item.test_prompt().replace(\" to the nearest dollar\",\"\").replace(\"\\n\\nPrice is $\",\"\")\n",
    "    return [\n",
    "        {\"role\": \"system\", \"content\": system_message},\n",
    "        {\"role\": \"user\", \"content\": user_prompt},\n",
    "        {\"role\": \"assistant\", \"content\": \"Price is $\"}\n",
    "    ]"
   ]
  },
  {
   "cell_type": "code",
   "execution_count": 38,
   "id": "4ff92d61-0d27-4b0d-8b32-c9891016509b",
   "metadata": {},
   "outputs": [
    {
     "data": {
      "text/plain": [
       "[{'role': 'system',\n",
       "  'content': 'You estimate prices of items. Reply only with the price, no explanation'},\n",
       " {'role': 'user',\n",
       "  'content': \"How much does this cost?\\n\\nSetpower Insulated Protective Cover for AJ30 Portable Refrigerator Freezer, suitable for AJ30 Only\\nInsulation & Waterproof well-made insulation could save battery power and improve cooling efficiency by preventing cold air from flowing away. Durable and Foldable with its oxford cloth outer layer, it's durable and protects your portable refrigerator from scratches and dust. Expanded Bag for Accessories two expanded bags on its side, expand space to store the other accessories. Great Ventilation a hollowed design for positions of vents doesn't affect the ventilation. Attention this insulated cover is ONLY suitable for SetPower AJ30 portable refrigerator. FIT TO AJ30 ONLY. Brand Name Setpower, Model Info AJ30 COVER, model number AJ30 COVER, Installation Type Freestanding, Part AJ30 cover, Special Features Portable, Color\"},\n",
       " {'role': 'assistant', 'content': 'Price is $'}]"
      ]
     },
     "execution_count": 38,
     "metadata": {},
     "output_type": "execute_result"
    }
   ],
   "source": [
    "# Try this out\n",
    "\n",
    "messages_for(test[0])"
   ]
  },
  {
   "cell_type": "code",
   "execution_count": 39,
   "id": "b1af1888-f94a-4106-b0d8-8a70939eec4e",
   "metadata": {},
   "outputs": [],
   "source": [
    "# A utility function to extract the price from a string\n",
    "\n",
    "def get_price(s):\n",
    "    s = s.replace('$','').replace(',','')\n",
    "    match = re.search(r\"[-+]?\\d*\\.\\d+|\\d+\", s)\n",
    "    return float(match.group()) if match else 0"
   ]
  },
  {
   "cell_type": "code",
   "execution_count": 40,
   "id": "f138c5b7-bcc1-4085-aced-68dad1bf36b4",
   "metadata": {},
   "outputs": [
    {
     "data": {
      "text/plain": [
       "99.99"
      ]
     },
     "execution_count": 40,
     "metadata": {},
     "output_type": "execute_result"
    }
   ],
   "source": [
    "get_price(\"The price is roughly $99.99 because blah blah\")"
   ]
  },
  {
   "cell_type": "code",
   "execution_count": 41,
   "id": "501a2a7a-69c8-451b-bbc0-398bcb9e1612",
   "metadata": {},
   "outputs": [],
   "source": [
    "# The function for gpt-4o-mini\n",
    "\n",
    "def gpt_fine_tuned(item):\n",
    "    response = openai.chat.completions.create(\n",
    "        model=fine_tuned_model_name, \n",
    "        messages=messages_for(item),\n",
    "        seed=42,\n",
    "        max_tokens=7\n",
    "    )\n",
    "    reply = response.choices[0].message.content\n",
    "    return get_price(reply)"
   ]
  },
  {
   "cell_type": "code",
   "execution_count": 42,
   "id": "843d88b4-364a-431b-b48b-8a7c1f68b786",
   "metadata": {},
   "outputs": [
    {
     "name": "stdout",
     "output_type": "stream",
     "text": [
      "65.99\n",
      "10.99\n"
     ]
    }
   ],
   "source": [
    "print(test[0].price)\n",
    "print(gpt_fine_tuned(test[0]))"
   ]
  },
  {
   "cell_type": "code",
   "execution_count": 43,
   "id": "edd7ada0-15b7-42ec-bbbb-1250e0eb9af1",
   "metadata": {},
   "outputs": [
    {
     "name": "stdout",
     "output_type": "stream",
     "text": [
      "How much does this cost to the nearest dollar?\n",
      "\n",
      "Setpower Insulated Protective Cover for AJ30 Portable Refrigerator Freezer, suitable for AJ30 Only\n",
      "Insulation & Waterproof well-made insulation could save battery power and improve cooling efficiency by preventing cold air from flowing away. Durable and Foldable with its oxford cloth outer layer, it's durable and protects your portable refrigerator from scratches and dust. Expanded Bag for Accessories two expanded bags on its side, expand space to store the other accessories. Great Ventilation a hollowed design for positions of vents doesn't affect the ventilation. Attention this insulated cover is ONLY suitable for SetPower AJ30 portable refrigerator. FIT TO AJ30 ONLY. Brand Name Setpower, Model Info AJ30 COVER, model number AJ30 COVER, Installation Type Freestanding, Part AJ30 cover, Special Features Portable, Color\n",
      "\n",
      "Price is $\n"
     ]
    }
   ],
   "source": [
    "print(test[0].test_prompt())"
   ]
  },
  {
   "cell_type": "code",
   "execution_count": 44,
   "id": "36bdd2c9-1859-4f99-a09f-3ec83b845b30",
   "metadata": {},
   "outputs": [
    {
     "name": "stdout",
     "output_type": "stream",
     "text": [
      "\u001b[93m1: Guess: $10.99 Truth: $65.99 Error: $55.00 SLE: 2.96 Item: Setpower Insulated Protective Cover for ...\u001b[0m\n",
      "\u001b[92m2: Guess: $21.99 Truth: $9.68 Error: $12.31 SLE: 0.59 Item: TUAIC Refrigerator Door Light Switch 2 F...\u001b[0m\n",
      "\u001b[93m3: Guess: $98.99 Truth: $155.98 Error: $56.99 SLE: 0.20 Item: Kegco Secondary Regulator, 3 Product, Ch...\u001b[0m\n",
      "\u001b[92m4: Guess: $13.47 Truth: $5.59 Error: $7.88 SLE: 0.62 Item: MHY62044106 Refrigerator Door Spring 2Pc...\u001b[0m\n",
      "\u001b[93m5: Guess: $47.22 Truth: $98.40 Error: $51.18 SLE: 0.52 Item: Ice-O-Matic 9131111-01 Float Valve\u001b[0m\n",
      "\u001b[92m6: Guess: $30.47 Truth: $54.99 Error: $24.52 SLE: 0.33 Item: Wireless Temperature & Humidity Bluetoot...\u001b[0m\n",
      "\u001b[92m7: Guess: $11.98 Truth: $5.71 Error: $6.27 SLE: 0.44 Item: 3Inch Thermometer Hygrometer for Indoor ...\u001b[0m\n",
      "\u001b[92m8: Guess: $14.65 Truth: $9.53 Error: $5.12 SLE: 0.16 Item: GE WH1X2754 GE Timer Knob Assembly,white\u001b[0m\n",
      "\u001b[92m9: Guess: $19.99 Truth: $11.24 Error: $8.75 SLE: 0.29 Item: newlifeapp 33001003 Dryer Lint Screen Fi...\u001b[0m\n",
      "\u001b[92m10: Guess: $14.98 Truth: $12.88 Error: $2.10 SLE: 0.02 Item: Away NV350 NV351 NV352 NV355 NV356 NV357...\u001b[0m\n",
      "\u001b[92m11: Guess: $128.66 Truth: $99.99 Error: $28.67 SLE: 0.06 Item: IM116000 Refrigerator Ice Maker Genuine ...\u001b[0m\n",
      "\u001b[92m12: Guess: $14.98 Truth: $16.99 Error: $2.01 SLE: 0.01 Item: 2 PACKS DLSC002 Water Filter Compatible ...\u001b[0m\n",
      "\u001b[92m13: Guess: $13.66 Truth: $12.74 Error: $0.92 SLE: 0.00 Item: STANCO METAL PROD 410-8 8\"Elec NonstickS...\u001b[0m\n",
      "\u001b[92m14: Guess: $18.65 Truth: $10.95 Error: $7.70 SLE: 0.25 Item: GE WB32X10012 6-Inch Drip Pan\u001b[0m\n",
      "\u001b[92m15: Guess: $29.99 Truth: $66.50 Error: $36.51 SLE: 0.61 Item: Edgewater Parts WH23X10016 Drain Pump Co...\u001b[0m\n",
      "\u001b[92m16: Guess: $13.99 Truth: $11.99 Error: $2.00 SLE: 0.02 Item: Elyum Size 04 Cone Coffee Filters, Natur...\u001b[0m\n",
      "\u001b[92m17: Guess: $44.00 Truth: $49.95 Error: $5.95 SLE: 0.02 Item: Everydrop by Whirlpool Ice and Water Ref...\u001b[0m\n",
      "\u001b[92m18: Guess: $37.47 Truth: $26.92 Error: $10.55 SLE: 0.10 Item: Beverage Air 703-587C Door Gasket\u001b[0m\n",
      "\u001b[93m19: Guess: $47.22 Truth: $89.98 Error: $42.76 SLE: 0.40 Item: Frigidaire EFIC123-SS Counter Top Maker,...\u001b[0m\n",
      "\u001b[92m20: Guess: $22.99 Truth: $25.99 Error: $3.00 SLE: 0.01 Item: Supplying Demand 316203200 316199900 Ele...\u001b[0m\n",
      "\u001b[92m21: Guess: $12.99 Truth: $17.99 Error: $5.00 SLE: 0.09 Item: 2-Pack 37001142 Dryer Lint Filter Replac...\u001b[0m\n",
      "\u001b[92m22: Guess: $24.99 Truth: $6.99 Error: $18.00 SLE: 1.39 Item: Qlear-CLWT Premium Replacement Coffee Ma...\u001b[0m\n",
      "\u001b[92m23: Guess: $10.77 Truth: $39.99 Error: $29.22 SLE: 1.56 Item: HUBBELL HBL5666CA AC Plug NEMA 6-15 Male...\u001b[0m\n",
      "\u001b[92m24: Guess: $11.99 Truth: $13.99 Error: $2.00 SLE: 0.02 Item: Refrigerator Egg Holder With Lid - Super...\u001b[0m\n",
      "\u001b[91m25: Guess: $1,249.00 Truth: $339.95 Error: $909.05 SLE: 1.69 Item: ZLINE 20.5\" Ducted Wall Mount Range Hood...\u001b[0m\n",
      "\u001b[92m26: Guess: $47.99 Truth: $67.99 Error: $20.00 SLE: 0.12 Item: Supplying Demand W10919003 W10775446 Top...\u001b[0m\n",
      "\u001b[91m27: Guess: $43.66 Truth: $139.00 Error: $95.34 SLE: 1.31 Item: Compatible Ice Maker for Whirlpool GZ25F...\u001b[0m\n",
      "\u001b[92m28: Guess: $10.99 Truth: $8.97 Error: $2.02 SLE: 0.03 Item: Blutoget 6\" Louvered Vent Cover for Exte...\u001b[0m\n",
      "\u001b[92m29: Guess: $21.95 Truth: $39.65 Error: $17.70 SLE: 0.33 Item: Edgewater Parts WR60X23584, AP5955766, P...\u001b[0m\n",
      "\u001b[92m30: Guess: $199.99 Truth: $229.98 Error: $29.99 SLE: 0.02 Item: Winflo 30 In. Convertible Stainless Stee...\u001b[0m\n",
      "\u001b[92m31: Guess: $25.99 Truth: $25.80 Error: $0.19 SLE: 0.00 Item: 383EER3001G 4901ER2003A 383EER3001J 383E...\u001b[0m\n",
      "\u001b[92m32: Guess: $14.65 Truth: $11.99 Error: $2.66 SLE: 0.03 Item: 2 PACK AF Compatible Replacement For Sam...\u001b[0m\n",
      "\u001b[92m33: Guess: $13.99 Truth: $9.99 Error: $4.00 SLE: 0.10 Item: Poweka Refillable Coffee Capsules Pods R...\u001b[0m\n",
      "\u001b[92m34: Guess: $23.99 Truth: $21.99 Error: $2.00 SLE: 0.01 Item: 2-Pack Replacement for Jenn-Air JCD2297K...\u001b[0m\n",
      "\u001b[92m35: Guess: $10.49 Truth: $17.90 Error: $7.41 SLE: 0.25 Item: Supco DE019AC Dryer Heating Element Rest...\u001b[0m\n",
      "\u001b[93m36: Guess: $127.22 Truth: $84.00 Error: $43.22 SLE: 0.17 Item: Frymaster 826-1526 Common Electric Repla...\u001b[0m\n",
      "\u001b[92m37: Guess: $18.65 Truth: $16.24 Error: $2.41 SLE: 0.02 Item: Plumb Craft 7508800N 5-Foot Washing Mach...\u001b[0m\n",
      "\u001b[92m38: Guess: $34.98 Truth: $23.99 Error: $10.99 SLE: 0.13 Item: Overbest DA97-17376B Replacement for Sam...\u001b[0m\n",
      "\u001b[92m39: Guess: $10.99 Truth: $6.99 Error: $4.00 SLE: 0.16 Item: Fill 'n Brew Individual Disposable Coffe...\u001b[0m\n",
      "\u001b[92m40: Guess: $10.99 Truth: $24.99 Error: $14.00 SLE: 0.60 Item: Maytag UKF7003 EDR7D1 Comparable Refrige...\u001b[0m\n",
      "\u001b[92m41: Guess: $13.99 Truth: $11.61 Error: $2.38 SLE: 0.03 Item: Coffee Filters - Natural Unbleached Brow...\u001b[0m\n",
      "\u001b[92m42: Guess: $1,127.00 Truth: $949.00 Error: $178.00 SLE: 0.03 Item: EdgeStar 20 Inch Wide 4.3 Cu. Ft. Medica...\u001b[0m\n",
      "\u001b[92m43: Guess: $43.66 Truth: $74.00 Error: $30.34 SLE: 0.27 Item: Bosch 00677095 Door Lower Bin, Clear\u001b[0m\n",
      "\u001b[92m44: Guess: $22.22 Truth: $22.05 Error: $0.17 SLE: 0.00 Item: Samsung DA34-10120E Switch Door-F\u001b[0m\n",
      "\u001b[91m45: Guess: $817.00 Truth: $284.00 Error: $533.00 SLE: 1.11 Item: Jenn air JGA8100ADB Stove Cartridge Asse...\u001b[0m\n",
      "\u001b[93m46: Guess: $47.99 Truth: $91.78 Error: $43.79 SLE: 0.41 Item: Whole Parts Burner Grate (Black) Part # ...\u001b[0m\n",
      "\u001b[92m47: Guess: $74.99 Truth: $45.20 Error: $29.79 SLE: 0.25 Item: DEFLECTO SK8WF Supurr-Flex(R) 8ft Dryer ...\u001b[0m\n",
      "\u001b[92m48: Guess: $5.32 Truth: $8.69 Error: $3.37 SLE: 0.18 Item: Supco RR109 Receptacle Kit\u001b[0m\n",
      "\u001b[92m49: Guess: $5.99 Truth: $16.18 Error: $10.19 SLE: 0.81 Item: 33001003 Dryer Lint Screen Filter Replac...\u001b[0m\n",
      "\u001b[92m50: Guess: $5.66 Truth: $6.50 Error: $0.84 SLE: 0.01 Item: W10194422 Replacement Light Bulb 40 Watt...\u001b[0m\n",
      "\u001b[92m51: Guess: $11.98 Truth: $32.21 Error: $20.23 SLE: 0.88 Item: ForeverPRO 8532165 Drum Light Lens for W...\u001b[0m\n",
      "\u001b[92m52: Guess: $10.99 Truth: $15.39 Error: $4.40 SLE: 0.10 Item: Highcraft Dishwasher Water Supply Line, ...\u001b[0m\n",
      "\u001b[92m53: Guess: $10.99 Truth: $17.99 Error: $7.00 SLE: 0.21 Item: 316048413 and 316048414 Stove Burner Dri...\u001b[0m\n",
      "\u001b[92m54: Guess: $23.47 Truth: $26.99 Error: $3.52 SLE: 0.02 Item: ReplacementBrand 8171413 Comparable Repl...\u001b[0m\n",
      "\u001b[92m55: Guess: $18.99 Truth: $11.99 Error: $7.00 SLE: 0.19 Item: 2-Pack 341241 Dryer Drum Belt Replacemen...\u001b[0m\n",
      "\u001b[92m56: Guess: $11.99 Truth: $44.46 Error: $32.47 SLE: 1.57 Item: WP9870163 9870163 Power Nut Kit - Compat...\u001b[0m\n",
      "\u001b[92m57: Guess: $13.66 Truth: $15.99 Error: $2.33 SLE: 0.02 Item: Stovetop Extender SE23WHI Oven Gap Guard...\u001b[0m\n",
      "\u001b[92m58: Guess: $109.99 Truth: $129.99 Error: $20.00 SLE: 0.03 Item: COSVALVE Portable Washing Machine 17lbs ...\u001b[0m\n",
      "\u001b[92m59: Guess: $47.99 Truth: $24.99 Error: $23.00 SLE: 0.40 Item: AlaSou Washer Dustproof Cover Front Load...\u001b[0m\n",
      "\u001b[92m60: Guess: $66.47 Truth: $27.38 Error: $39.09 SLE: 0.75 Item: Honeywell HC26E1004/U Pad for He200, He2...\u001b[0m\n",
      "\u001b[92m61: Guess: $14.65 Truth: $16.95 Error: $2.30 SLE: 0.02 Item: HQRP 2-Pack Wick Filter Compatible with ...\u001b[0m\n",
      "\u001b[92m62: Guess: $14.74 Truth: $10.82 Error: $3.92 SLE: 0.08 Item: Whirlpool 8537982 Pad Washer\u001b[0m\n",
      "\u001b[92m63: Guess: $11.98 Truth: $19.00 Error: $7.02 SLE: 0.19 Item: Durable Disposable Electric Burner Bibs-...\u001b[0m\n",
      "\u001b[92m64: Guess: $12.99 Truth: $12.98 Error: $0.01 SLE: 0.00 Item: Anti Vibration Pads for Washing Machine,...\u001b[0m\n",
      "\u001b[92m65: Guess: $12.99 Truth: $16.99 Error: $4.00 SLE: 0.06 Item: Reusable K Cups for Keurig, Reusable Cof...\u001b[0m\n",
      "\u001b[92m66: Guess: $23.47 Truth: $24.97 Error: $1.50 SLE: 0.00 Item: Apace Living Pour Over Coffee Filter - W...\u001b[0m\n",
      "\u001b[92m67: Guess: $15.99 Truth: $10.91 Error: $5.08 SLE: 0.13 Item: Kitchen Basics 101 2 Pack ES18806 Refrig...\u001b[0m\n",
      "\u001b[92m68: Guess: $10.99 Truth: $14.98 Error: $3.99 SLE: 0.08 Item: Mist LT1000P Water Filter Replacement, C...\u001b[0m\n",
      "\u001b[92m69: Guess: $21.99 Truth: $7.90 Error: $14.09 SLE: 0.90 Item: NEW Dryer Drum Felt Replacement for Whir...\u001b[0m\n",
      "\u001b[92m70: Guess: $19.99 Truth: $25.75 Error: $5.76 SLE: 0.06 Item: Cobectal 4581EL2002C Dryer Drum Roller A...\u001b[0m\n",
      "\u001b[92m71: Guess: $30.47 Truth: $41.77 Error: $11.30 SLE: 0.09 Item: WH01X10343 Washer Shock Absorber 4 Pack ...\u001b[0m\n",
      "\u001b[92m72: Guess: $47.99 Truth: $20.68 Error: $27.31 SLE: 0.66 Item: Fafeicy WT2000 110-220V Digital Humidity...\u001b[0m\n",
      "\u001b[92m73: Guess: $66.47 Truth: $69.99 Error: $3.52 SLE: 0.00 Item: TJ. Clothes Dryer, 110V 600W Portable Dr...\u001b[0m\n",
      "\u001b[92m74: Guess: $30.47 Truth: $23.99 Error: $6.48 SLE: 0.05 Item: DC97-16350C Suspension Support Rod and A...\u001b[0m\n",
      "\u001b[92m75: Guess: $34.65 Truth: $28.69 Error: $5.96 SLE: 0.03 Item: Supplying Demand WB24X22341 WB24X40331 E...\u001b[0m\n",
      "\u001b[92m76: Guess: $47.22 Truth: $42.00 Error: $5.22 SLE: 0.01 Item: General Electric WB03X24360 Knob Assembl...\u001b[0m\n",
      "\u001b[93m77: Guess: $83.57 Truth: $123.57 Error: $40.00 SLE: 0.15 Item: Frigidaire 5304445529 Oven Door Hinge, G...\u001b[0m\n",
      "\u001b[92m78: Guess: $10.99 Truth: $8.99 Error: $2.00 SLE: 0.03 Item: Waytiffer Gas Burner Liners (50 Pack) 8....\u001b[0m\n",
      "\u001b[92m79: Guess: $30.47 Truth: $36.95 Error: $6.48 SLE: 0.04 Item: USA Made MSWF Compatible by Instapure NS...\u001b[0m\n",
      "\u001b[92m80: Guess: $15.99 Truth: $11.99 Error: $4.00 SLE: 0.07 Item: 2-Pack 341241 Dryer Drum Belt Replacemen...\u001b[0m\n",
      "\u001b[92m81: Guess: $29.97 Truth: $41.30 Error: $11.33 SLE: 0.10 Item: Washing Machine Hoses and Steam Dryer In...\u001b[0m\n",
      "\u001b[92m82: Guess: $30.47 Truth: $35.61 Error: $5.14 SLE: 0.02 Item: Bosch 12004119 Dishwasher Door Spring an...\u001b[0m\n",
      "\u001b[91m83: Guess: $367.43 Truth: $169.99 Error: $197.44 SLE: 0.59 Item: Broan QS336AA QS3 Series Range Hood, 36-...\u001b[0m\n",
      "\u001b[92m84: Guess: $47.10 Truth: $19.91 Error: $27.19 SLE: 0.69 Item: Bosch 00631633 Range Surface Burner Igni...\u001b[0m\n",
      "\u001b[92m85: Guess: $10.99 Truth: $9.57 Error: $1.42 SLE: 0.02 Item: LONYE 9759242 Oven Thermal Fuse Replacem...\u001b[0m\n",
      "\u001b[92m86: Guess: $23.99 Truth: $29.69 Error: $5.70 SLE: 0.04 Item: Upgrade W10594481 Stainless Steel Cooker...\u001b[0m\n",
      "\u001b[92m87: Guess: $43.66 Truth: $21.93 Error: $21.73 SLE: 0.44 Item: Supco IMM8366 Icemaker Control Module, R...\u001b[0m\n",
      "\u001b[92m88: Guess: $34.98 Truth: $32.56 Error: $2.42 SLE: 0.00 Item: DA31-00334C (AP6803162) Evaporator Fan M...\u001b[0m\n",
      "\u001b[92m89: Guess: $23.47 Truth: $22.78 Error: $0.69 SLE: 0.00 Item: UPGRADE 240363702 Refrigerator Door Bin ...\u001b[0m\n",
      "\u001b[92m90: Guess: $13.99 Truth: $24.79 Error: $10.80 SLE: 0.29 Item: Supreme Covers Portable Washing Machine ...\u001b[0m\n",
      "\u001b[92m91: Guess: $37.47 Truth: $33.69 Error: $3.78 SLE: 0.01 Item: Frigidaire 316206401 Surface Burner Base...\u001b[0m\n",
      "\u001b[92m92: Guess: $21.99 Truth: $12.99 Error: $9.00 SLE: 0.25 Item: TooCust Milk Frothing Pitcher 20 OZ/600M...\u001b[0m\n",
      "\u001b[92m93: Guess: $47.22 Truth: $12.99 Error: $34.23 SLE: 1.53 Item: Premium Vials 38-28SWB-ZT 38 x 28 mm Cle...\u001b[0m\n",
      "\u001b[92m94: Guess: $8.99 Truth: $10.98 Error: $1.99 SLE: 0.03 Item: 8318084 AP3180933 PS886960 Washer Door L...\u001b[0m\n",
      "\u001b[92m95: Guess: $23.47 Truth: $26.44 Error: $2.97 SLE: 0.01 Item: Aqua Fresh 4396508 Replacement Water Fil...\u001b[0m\n",
      "\u001b[92m96: Guess: $18.81 Truth: $16.99 Error: $1.82 SLE: 0.01 Item: InterDesign Covered Egg Holder - Refrige...\u001b[0m\n",
      "\u001b[92m97: Guess: $30.47 Truth: $25.25 Error: $5.22 SLE: 0.03 Item: Upgrade DG94-00520A Gas Range Oven Flat ...\u001b[0m\n",
      "\u001b[92m98: Guess: $12.99 Truth: $11.88 Error: $1.11 SLE: 0.01 Item: 383EER4001A Washing Machine Inner/Outer ...\u001b[0m\n",
      "\u001b[92m99: Guess: $29.99 Truth: $28.99 Error: $1.00 SLE: 0.00 Item: Maxmartt 100mm Vent Cover Stainless Stee...\u001b[0m\n",
      "\u001b[92m100: Guess: $16.99 Truth: $23.12 Error: $6.13 SLE: 0.09 Item: Upgraded Lifetime Appliance WR72X239 Cri...\u001b[0m\n",
      "\u001b[92m101: Guess: $47.10 Truth: $52.97 Error: $5.87 SLE: 0.01 Item: Whirlpool W10181986 Sensor for Range, Si...\u001b[0m\n",
      "\u001b[92m102: Guess: $30.47 Truth: $25.99 Error: $4.48 SLE: 0.02 Item: Wintact Digital Temperature and Humidity...\u001b[0m\n",
      "\u001b[92m103: Guess: $14.98 Truth: $17.99 Error: $3.01 SLE: 0.03 Item: BOTNA 97006931 Range Hood Grease Filter ...\u001b[0m\n",
      "\u001b[92m104: Guess: $5.99 Truth: $7.99 Error: $2.00 SLE: 0.06 Item: Milk Frothing Pitcher 12oz, Espresso Cap...\u001b[0m\n",
      "\u001b[92m105: Guess: $13.66 Truth: $28.99 Error: $15.33 SLE: 0.51 Item: 1040 Replacement Wick for AIRCARE, Essic...\u001b[0m\n",
      "\u001b[92m106: Guess: $24.20 Truth: $12.07 Error: $12.13 SLE: 0.43 Item: Stanco Gas Range Drip Pan For Gas Ranges...\u001b[0m\n",
      "\u001b[92m107: Guess: $14.65 Truth: $18.99 Error: $4.34 SLE: 0.06 Item: Dampp Chaser Piano Humidifier Pad Treatm...\u001b[0m\n",
      "\u001b[92m108: Guess: $32.99 Truth: $9.99 Error: $23.00 SLE: 1.27 Item: Gardens 216822900 Light Switch Fits Frig...\u001b[0m\n",
      "\u001b[92m109: Guess: $47.99 Truth: $29.99 Error: $18.00 SLE: 0.21 Item: Waterspecialist DA97-17376B Replacement ...\u001b[0m\n",
      "\u001b[92m110: Guess: $10.99 Truth: $9.99 Error: $1.00 SLE: 0.01 Item: Upgraded WB03X24818 Stove Knob, Stainles...\u001b[0m\n",
      "\u001b[92m111: Guess: $29.99 Truth: $31.69 Error: $1.70 SLE: 0.00 Item: 5-PACK Top Burner Control Dial Knob Rang...\u001b[0m\n",
      "\u001b[92m112: Guess: $29.99 Truth: $24.99 Error: $5.00 SLE: 0.03 Item: Large Capacity Egg Holder for Refrigerat...\u001b[0m\n",
      "\u001b[92m113: Guess: $32.99 Truth: $25.99 Error: $7.00 SLE: 0.05 Item: FireFly Home Stove Top Protector for LG ...\u001b[0m\n",
      "\u001b[92m114: Guess: $22.99 Truth: $18.99 Error: $4.00 SLE: 0.03 Item: Annbully Cartoon USB Mini Mushroom Light...\u001b[0m\n",
      "\u001b[92m115: Guess: $10.99 Truth: $9.99 Error: $1.00 SLE: 0.01 Item: Goldenvalueable 6 x Single Coffee Pod Fi...\u001b[0m\n",
      "\u001b[92m116: Guess: $16.99 Truth: $22.99 Error: $6.00 SLE: 0.08 Item: Blueangle Pink Hibiscus Dishwasher Magne...\u001b[0m\n",
      "\u001b[91m117: Guess: $339.98 Truth: $169.99 Error: $169.99 SLE: 0.48 Item: ROVSUN 13LBS Portable Washing Machine, 1...\u001b[0m\n",
      "\u001b[92m118: Guess: $66.47 Truth: $36.99 Error: $29.48 SLE: 0.33 Item: 1-Year Warranty 137114000 Dryer Heating ...\u001b[0m\n",
      "\u001b[92m119: Guess: $19.99 Truth: $33.99 Error: $14.00 SLE: 0.26 Item: ICEPURE 46-9690 ADQ36006101 Replacement ...\u001b[0m\n",
      "\u001b[92m120: Guess: $66.76 Truth: $104.89 Error: $38.13 SLE: 0.20 Item: Whirlpool W10833899 Water Inlet Valve, W...\u001b[0m\n",
      "\u001b[92m121: Guess: $52.74 Truth: $19.98 Error: $32.76 SLE: 0.88 Item: W11036930 Washing Machine Water Valve FO...\u001b[0m\n",
      "\u001b[92m122: Guess: $13.99 Truth: $9.99 Error: $4.00 SLE: 0.10 Item: Sunflowers Refrigerator Door Handle Cove...\u001b[0m\n",
      "\u001b[92m123: Guess: $22.22 Truth: $28.10 Error: $5.88 SLE: 0.05 Item: General Electric WR17X3880 Front Shelf R...\u001b[0m\n",
      "\u001b[92m124: Guess: $66.76 Truth: $27.50 Error: $39.26 SLE: 0.75 Item: Supco Refrigerator Water Valve for Whirl...\u001b[0m\n",
      "\u001b[92m125: Guess: $21.66 Truth: $36.99 Error: $15.33 SLE: 0.27 Item: HASMX 6-918873 Dishwasher Cutlery Silver...\u001b[0m\n",
      "\u001b[92m126: Guess: $16.76 Truth: $19.84 Error: $3.08 SLE: 0.03 Item: Whirlpool W10437088 Range Surface Burner...\u001b[0m\n",
      "\u001b[92m127: Guess: $47.99 Truth: $24.99 Error: $23.00 SLE: 0.40 Item: 950S - Compatible with GE Square Gas Ran...\u001b[0m\n",
      "\u001b[91m128: Guess: $59.99 Truth: $169.99 Error: $110.00 SLE: 1.06 Item: WAFIET 12 Inch Gas Cooktop with 2 Italy ...\u001b[0m\n",
      "\u001b[92m129: Guess: $25.99 Truth: $19.99 Error: $6.00 SLE: 0.06 Item: Reusable Vertuo Capsule Cap + Coffee Pod...\u001b[0m\n",
      "\u001b[92m130: Guess: $22.99 Truth: $25.95 Error: $2.96 SLE: 0.01 Item: Coffee Filter Holder - Coffee Filter Sto...\u001b[0m\n",
      "\u001b[91m131: Guess: $726.65 Truth: $39.96 Error: $686.69 SLE: 8.28 Item: Star 2F-Z3036 Deflector-Burner Cast\u001b[0m\n",
      "\u001b[92m132: Guess: $34.65 Truth: $15.99 Error: $18.66 SLE: 0.55 Item: General Electric WB17T10006 Range Surfac...\u001b[0m\n",
      "\u001b[92m133: Guess: $22.99 Truth: $39.99 Error: $17.00 SLE: 0.29 Item: WiFi Temperature Sensor with Waterproof ...\u001b[0m\n",
      "\u001b[92m134: Guess: $10.99 Truth: $21.53 Error: $10.54 SLE: 0.40 Item: KITCHEN BASICS 101: 1 Piece 5304439835 F...\u001b[0m\n",
      "\u001b[92m135: Guess: $35.99 Truth: $26.99 Error: $9.00 SLE: 0.08 Item: Dryer Heating Element for Samsung，DC47-0...\u001b[0m\n",
      "\u001b[92m136: Guess: $32.00 Truth: $43.99 Error: $11.99 SLE: 0.10 Item: Samsung DA29-00020B, DA29-00020A, HAF-CI...\u001b[0m\n",
      "\u001b[92m137: Guess: $8.99 Truth: $9.41 Error: $0.42 SLE: 0.00 Item: HQRP 3-Pack Wick Filter Compatible with ...\u001b[0m\n",
      "\u001b[92m138: Guess: $13.47 Truth: $8.99 Error: $4.48 SLE: 0.14 Item: Reusable K Cups For Keurig K-Latte 1.0 C...\u001b[0m\n",
      "\u001b[93m139: Guess: $128.66 Truth: $61.51 Error: $67.15 SLE: 0.53 Item: IM10093 for WR30X10093 GE Icemaker Refri...\u001b[0m\n",
      "\u001b[93m140: Guess: $74.71 Truth: $122.30 Error: $47.59 SLE: 0.24 Item: Whirlpool W10159839 Inlet Valve\u001b[0m\n",
      "\u001b[92m141: Guess: $21.66 Truth: $14.89 Error: $6.77 SLE: 0.13 Item: 100 UNIVERSAL Round Aluminum Foil Gas Bu...\u001b[0m\n",
      "\u001b[92m142: Guess: $57.65 Truth: $39.99 Error: $17.66 SLE: 0.13 Item: TRUE 811502 Nozzle and Screw Set\u001b[0m\n",
      "\u001b[92m143: Guess: $11.99 Truth: $17.90 Error: $5.91 SLE: 0.14 Item: Dianoo Espresso Steaming Pitcher, Espres...\u001b[0m\n",
      "\u001b[92m144: Guess: $14.65 Truth: $16.77 Error: $2.12 SLE: 0.02 Item: Air Filter Factory Replacement For Lenno...\u001b[0m\n",
      "\u001b[92m145: Guess: $24.99 Truth: $23.99 Error: $1.00 SLE: 0.00 Item: EvertechPRO Washer Drain Pump Assembly R...\u001b[0m\n",
      "\u001b[92m146: Guess: $43.66 Truth: $35.00 Error: $8.66 SLE: 0.05 Item: Cheftek CT1010 Portable 2 Burner Electri...\u001b[0m\n",
      "\u001b[92m147: Guess: $10.99 Truth: $4.95 Error: $6.04 SLE: 0.49 Item: HQRP 4 Pin Universal Refrigerator Freeze...\u001b[0m\n",
      "\u001b[92m148: Guess: $11.98 Truth: $18.89 Error: $6.91 SLE: 0.18 Item: 2-Pack W10189190 TSD2 Start Device & W10...\u001b[0m\n",
      "\u001b[92m149: Guess: $23.47 Truth: $8.77 Error: $14.70 SLE: 0.84 Item: Air Filter Factory Replacement For Whirl...\u001b[0m\n",
      "\u001b[92m150: Guess: $13.66 Truth: $17.22 Error: $3.56 SLE: 0.05 Item: Plumb Pak Braided Washing Machine Hose, ...\u001b[0m\n",
      "\u001b[92m151: Guess: $10.77 Truth: $20.98 Error: $10.21 SLE: 0.39 Item: Bosch 00424673 Button, Silver\u001b[0m\n",
      "\u001b[92m152: Guess: $32.99 Truth: $37.37 Error: $4.38 SLE: 0.01 Item: Siwdoy 4391960 279816 3392519 Dryer Heat...\u001b[0m\n",
      "\u001b[92m153: Guess: $12.99 Truth: $11.99 Error: $1.00 SLE: 0.01 Item: OUGAR8 Refrigerator Door Handle Covers H...\u001b[0m\n",
      "\u001b[92m154: Guess: $83.00 Truth: $119.95 Error: $36.95 SLE: 0.13 Item: Bosch 00414750 Range Hood Fan Switch Gen...\u001b[0m\n",
      "\u001b[92m155: Guess: $47.99 Truth: $31.00 Error: $16.99 SLE: 0.18 Item: Replacement Filter Compatible with HG Ty...\u001b[0m\n",
      "\u001b[92m156: Guess: $47.22 Truth: $31.00 Error: $16.22 SLE: 0.17 Item: Aprilaire Humidifier Part # 10 for Model...\u001b[0m\n",
      "\u001b[92m157: Guess: $22.22 Truth: $7.97 Error: $14.25 SLE: 0.90 Item: Technivorm Moccamaster 85090 Cup-One Pap...\u001b[0m\n",
      "\u001b[92m158: Guess: $22.22 Truth: $51.50 Error: $29.28 SLE: 0.67 Item: LG Electronics 4681EA1007D 4681EA2001T W...\u001b[0m\n",
      "\u001b[92m159: Guess: $15.99 Truth: $27.99 Error: $12.00 SLE: 0.29 Item: ALAZA Flower on Marble Art Large Dishwas...\u001b[0m\n",
      "\u001b[91m160: Guess: $726.65 Truth: $466.24 Error: $260.41 SLE: 0.20 Item: Frigidaire FFEC3025UB 30 Inch Electric S...\u001b[0m\n",
      "\u001b[92m161: Guess: $43.66 Truth: $50.36 Error: $6.70 SLE: 0.02 Item: General Electric WR8X122 Refrigerator Ov...\u001b[0m\n",
      "\u001b[92m162: Guess: $14.98 Truth: $19.97 Error: $4.99 SLE: 0.07 Item: Small Size Pour Over Coffee filter Paper...\u001b[0m\n",
      "\u001b[92m163: Guess: $22.99 Truth: $29.95 Error: $6.96 SLE: 0.06 Item: Sealegend 6-Pieces Dryer Vent Cleaner Ki...\u001b[0m\n",
      "\u001b[92m164: Guess: $22.97 Truth: $23.99 Error: $1.02 SLE: 0.00 Item: Waterspecialist XWF NSF Certified Refrig...\u001b[0m\n",
      "\u001b[92m165: Guess: $10.99 Truth: $12.74 Error: $1.75 SLE: 0.02 Item: GARP 279816 Compatible Replacement for D...\u001b[0m\n",
      "\u001b[92m166: Guess: $6.66 Truth: $8.99 Error: $2.33 SLE: 0.07 Item: Premium W10258275 Dishwasher Bimetal The...\u001b[0m\n",
      "\u001b[92m167: Guess: $30.47 Truth: $24.99 Error: $5.48 SLE: 0.04 Item: UpStart Components Replacement for Gener...\u001b[0m\n",
      "\u001b[92m168: Guess: $15.99 Truth: $17.99 Error: $2.00 SLE: 0.01 Item: Chef's Star Stainless Steel Milk Frothin...\u001b[0m\n",
      "\u001b[92m169: Guess: $10.99 Truth: $19.99 Error: $9.00 SLE: 0.31 Item: Egg Container for Refrigerator 2 Layer E...\u001b[0m\n",
      "\u001b[92m170: Guess: $10.99 Truth: $18.77 Error: $7.78 SLE: 0.25 Item: AMI PARTS DC97-16742A Dryer Lint Filter ...\u001b[0m\n",
      "\u001b[92m171: Guess: $47.22 Truth: $47.86 Error: $0.64 SLE: 0.00 Item: GE WB2X9154 Igniter for Gas Broiler or O...\u001b[0m\n",
      "\u001b[92m172: Guess: $30.47 Truth: $34.45 Error: $3.98 SLE: 0.01 Item: General Electric WE25X218 Dryer Conversi...\u001b[0m\n",
      "\u001b[92m173: Guess: $10.99 Truth: $7.99 Error: $3.00 SLE: 0.08 Item: 312959 Dryer Belt Replacement for Maytag...\u001b[0m\n",
      "\u001b[92m174: Guess: $22.99 Truth: $27.99 Error: $5.00 SLE: 0.04 Item: 5-Pack Replacement EF-1 Filter for Kenmo...\u001b[0m\n",
      "\u001b[91m175: Guess: $24.66 Truth: $117.99 Error: $93.33 SLE: 2.35 Item: OEM Samsung Refrigerator Door Bin Basket...\u001b[0m\n",
      "\u001b[91m176: Guess: $579.99 Truth: $989.99 Error: $410.00 SLE: 0.29 Item: vevor 24\" Undercounter Built-in Refriger...\u001b[0m\n",
      "\u001b[92m177: Guess: $24.99 Truth: $18.99 Error: $6.00 SLE: 0.07 Item: Reusable Vertuo Capsule Kit for Nespress...\u001b[0m\n",
      "\u001b[91m178: Guess: $43.66 Truth: $164.98 Error: $121.32 SLE: 1.72 Item: 32\" x 30\" 2.5\" Heavy Duty Washer Machine...\u001b[0m\n",
      "\u001b[92m179: Guess: $30.47 Truth: $19.36 Error: $11.11 SLE: 0.19 Item: Fluidmaster 9WM60 \"No Burst\" Washing Mac...\u001b[0m\n",
      "\u001b[92m180: Guess: $43.66 Truth: $16.00 Error: $27.66 SLE: 0.93 Item: AYZE 5300622034 AP2135128 Electric Restr...\u001b[0m\n",
      "\u001b[92m181: Guess: $22.32 Truth: $21.40 Error: $0.92 SLE: 0.00 Item: Whirlpool 8559751 Door Handle, Black\u001b[0m\n",
      "\u001b[92m182: Guess: $15.99 Truth: $46.99 Error: $31.00 SLE: 1.08 Item: Upgraded Dryer Repair Kit Compatible wit...\u001b[0m\n",
      "\u001b[92m183: Guess: $23.47 Truth: $13.69 Error: $9.78 SLE: 0.26 Item: Camco 00553 8\" GE/Hotpoint Hinge Reflect...\u001b[0m\n",
      "\u001b[92m184: Guess: $49.65 Truth: $22.72 Error: $26.93 SLE: 0.58 Item: GE Part Number WB03T10272 KNOB SELECTOR ...\u001b[0m\n",
      "\u001b[91m185: Guess: $726.65 Truth: $105.13 Error: $621.52 SLE: 3.71 Item: Manitowoc Ice 4304643 Curtain, Water\u001b[0m\n",
      "\u001b[92m186: Guess: $47.99 Truth: $32.50 Error: $15.49 SLE: 0.14 Item: EXP279838 Heating Element ( Replaces 279...\u001b[0m\n",
      "\u001b[91m187: Guess: $252.18 Truth: $114.60 Error: $137.58 SLE: 0.61 Item: Vulcan Hart 346357-1 Thermo\u001b[0m\n",
      "\u001b[91m188: Guess: $174.77 Truth: $84.96 Error: $89.81 SLE: 0.51 Item: Turbo Air 30283N0100 Thermostat\u001b[0m\n",
      "\u001b[92m189: Guess: $43.66 Truth: $83.40 Error: $39.74 SLE: 0.41 Item: Frigidaire 241679003 Dispenser Trim Refr...\u001b[0m\n",
      "\u001b[92m190: Guess: $22.99 Truth: $9.99 Error: $13.00 SLE: 0.61 Item: W10721967 Splutch Cam Kit Replacement fo...\u001b[0m\n",
      "\u001b[92m191: Guess: $11.99 Truth: $9.49 Error: $2.50 SLE: 0.05 Item: newlifeapp 40113801 Dryer Thermal Cut of...\u001b[0m\n",
      "\u001b[92m192: Guess: $21.99 Truth: $29.99 Error: $8.00 SLE: 0.09 Item: Upgraded W10612022 Dryer Rear Drum Felt ...\u001b[0m\n",
      "\u001b[92m193: Guess: $15.99 Truth: $13.57 Error: $2.42 SLE: 0.02 Item: 2 Pack Top Burner Spark Igniter Range Re...\u001b[0m\n",
      "\u001b[92m194: Guess: $23.99 Truth: $19.96 Error: $4.03 SLE: 0.03 Item: 8540024 Washer Drain Pump Motor by Seent...\u001b[0m\n",
      "\u001b[92m195: Guess: $76.99 Truth: $56.99 Error: $20.00 SLE: 0.09 Item: New-Refrigerator Icemaker Module Compati...\u001b[0m\n",
      "\u001b[92m196: Guess: $32.00 Truth: $16.37 Error: $15.63 SLE: 0.41 Item: Whirlpool W10195839 Adjuster\u001b[0m\n",
      "\u001b[92m197: Guess: $16.99 Truth: $19.99 Error: $3.00 SLE: 0.02 Item: Nispira Replacement Range Hood Grease Fi...\u001b[0m\n",
      "\u001b[92m198: Guess: $24.99 Truth: $37.98 Error: $12.99 SLE: 0.16 Item: Mist Water Filter Replacement, Compatibl...\u001b[0m\n",
      "\u001b[92m199: Guess: $21.99 Truth: $34.79 Error: $12.80 SLE: 0.20 Item: (2-Pack) UPGRADE 240356402 Refrigerator ...\u001b[0m\n",
      "\u001b[92m200: Guess: $10.99 Truth: $8.39 Error: $2.60 SLE: 0.06 Item: DPD 3949238 Washer Lid Switch Assembly R...\u001b[0m\n",
      "\u001b[93m201: Guess: $47.10 Truth: $117.86 Error: $70.76 SLE: 0.82 Item: GENUINE Frigidaire 318050800 Bake Elemen...\u001b[0m\n",
      "\u001b[92m202: Guess: $16.99 Truth: $15.99 Error: $1.00 SLE: 0.00 Item: Anti Vibration Pads for Washing Machine,...\u001b[0m\n",
      "\u001b[92m203: Guess: $15.99 Truth: $10.99 Error: $5.00 SLE: 0.12 Item: 8536974 Dryer Drum Support Roller Kit, R...\u001b[0m\n",
      "\u001b[92m204: Guess: $11.99 Truth: $24.43 Error: $12.44 SLE: 0.45 Item: Whirlpool 279816 Dryer Thermal Fuse Kit\u001b[0m\n",
      "\u001b[91m205: Guess: $699.00 Truth: $426.98 Error: $272.02 SLE: 0.24 Item: Empava 36 500 CFM Island Range Hood Duct...\u001b[0m\n",
      "\u001b[92m206: Guess: $23.47 Truth: $39.99 Error: $16.52 SLE: 0.27 Item: SpiroPure SP-LE700 NSF Certified Refrige...\u001b[0m\n",
      "\u001b[92m207: Guess: $25.99 Truth: $26.99 Error: $1.00 SLE: 0.00 Item: Replacement for Jenn-Air A100W 8 inch 5 ...\u001b[0m\n",
      "\u001b[91m208: Guess: $47.22 Truth: $138.69 Error: $91.47 SLE: 1.13 Item: GE WR49X10091 Genuine OEM Damper Control...\u001b[0m\n",
      "\u001b[92m209: Guess: $21.99 Truth: $13.97 Error: $8.02 SLE: 0.18 Item: DC47-00016A Dryer Thermal Fuse Thermosta...\u001b[0m\n",
      "\u001b[92m210: Guess: $16.99 Truth: $21.99 Error: $5.00 SLE: 0.06 Item: 2-Pack Replacement for JFD2589KEP Refrig...\u001b[0m\n",
      "\u001b[92m211: Guess: $10.99 Truth: $18.88 Error: $7.89 SLE: 0.26 Item: WP33001244 33001244 Terminal Block Assem...\u001b[0m\n",
      "\u001b[92m212: Guess: $43.66 Truth: $18.41 Error: $25.25 SLE: 0.69 Item: Whirlpool 308180 Bake, Black\u001b[0m\n",
      "\u001b[92m213: Guess: $10.99 Truth: $9.95 Error: $1.04 SLE: 0.01 Item: LG 6501KW2001B 6501KW2001A Sensor Kenmor...\u001b[0m\n",
      "\u001b[92m214: Guess: $13.66 Truth: $18.00 Error: $4.34 SLE: 0.07 Item: Compatible Drum Belt for Maytag MDE2500A...\u001b[0m\n",
      "\u001b[92m215: Guess: $25.99 Truth: $33.95 Error: $7.96 SLE: 0.07 Item: Whirlpool MAL9000AXX Dryer Liquid Propan...\u001b[0m\n",
      "\u001b[92m216: Guess: $74.99 Truth: $42.95 Error: $32.04 SLE: 0.30 Item: MCGILL Replacement Black Fan Rocker Swit...\u001b[0m\n",
      "\u001b[92m217: Guess: $66.99 Truth: $59.99 Error: $7.00 SLE: 0.01 Item: New Upgraded 5304507199 Refrigerator Doo...\u001b[0m\n",
      "\u001b[92m218: Guess: $66.47 Truth: $55.58 Error: $10.89 SLE: 0.03 Item: TRUE 810719 Black Gasket For Gdm-19/23/4...\u001b[0m\n",
      "\u001b[92m219: Guess: $31.99 Truth: $15.10 Error: $16.89 SLE: 0.51 Item: LG 5215EA3003A Genuine OEM Drain Hose As...\u001b[0m\n",
      "\u001b[92m220: Guess: $34.98 Truth: $45.99 Error: $11.01 SLE: 0.07 Item: Waterspecialist DA29-00020B Refrigerator...\u001b[0m\n",
      "\u001b[92m221: Guess: $43.66 Truth: $60.14 Error: $16.48 SLE: 0.10 Item: GlobPro W10321032 1876931 Washer Water D...\u001b[0m\n",
      "\u001b[92m222: Guess: $24.99 Truth: $45.99 Error: $21.00 SLE: 0.35 Item: AQUA CREST 847200 Refrigerator Water Fil...\u001b[0m\n",
      "\u001b[92m223: Guess: $47.10 Truth: $16.24 Error: $30.86 SLE: 1.05 Item: Frigidaire 297216600 Frigidare Thermosta...\u001b[0m\n",
      "\u001b[92m224: Guess: $29.99 Truth: $31.99 Error: $2.00 SLE: 0.00 Item: Supplying Demand 8557884 W10874409 Cloth...\u001b[0m\n",
      "\u001b[92m225: Guess: $15.99 Truth: $34.00 Error: $18.01 SLE: 0.52 Item: Whole Parts 3398095 Dryer Push To Start ...\u001b[0m\n",
      "\u001b[92m226: Guess: $23.47 Truth: $26.99 Error: $3.52 SLE: 0.02 Item: i Cafillas Refillable Stainless Steel Co...\u001b[0m\n",
      "\u001b[92m227: Guess: $43.66 Truth: $15.39 Error: $28.27 SLE: 1.00 Item: er2198202 Thermostat\u001b[0m\n",
      "\u001b[92m228: Guess: $47.99 Truth: $27.77 Error: $20.22 SLE: 0.28 Item: Beaquicy WB44X5082 Oven Bake Element - R...\u001b[0m\n",
      "\u001b[92m229: Guess: $54.52 Truth: $26.08 Error: $28.44 SLE: 0.52 Item: Whirlpool 661570 Belt\u001b[0m\n",
      "\u001b[92m230: Guess: $29.99 Truth: $18.99 Error: $11.00 SLE: 0.19 Item: iFillMug 33 Pack for K Cup and Keurig Br...\u001b[0m\n",
      "\u001b[91m231: Guess: $32.00 Truth: $159.18 Error: $127.18 SLE: 2.50 Item: Frigidaire 5304506131 Freezer Door Gaske...\u001b[0m\n",
      "\u001b[92m232: Guess: $34.65 Truth: $34.95 Error: $0.30 SLE: 0.00 Item: New York Air 737-300 Airplane Miniature ...\u001b[0m\n",
      "\u001b[92m233: Guess: $13.66 Truth: $25.19 Error: $11.53 SLE: 0.34 Item: Amazon Basics Replacement GE XWF Refrige...\u001b[0m\n",
      "\u001b[92m234: Guess: $11.99 Truth: $19.51 Error: $7.52 SLE: 0.21 Item: Upgraded 5304506510 Dishrack Stop Clip -...\u001b[0m\n",
      "\u001b[92m235: Guess: $37.99 Truth: $37.45 Error: $0.54 SLE: 0.00 Item: Sportman Pastoral Style Vase Flower Kitc...\u001b[0m\n",
      "\u001b[92m236: Guess: $31.99 Truth: $29.99 Error: $2.00 SLE: 0.00 Item: [4680JB1026H Motor OEM Mania] 4680JB1026...\u001b[0m\n",
      "\u001b[91m237: Guess: $274.00 Truth: $163.56 Error: $110.44 SLE: 0.26 Item: 5304458371 Refrigerator Ice Maker Assemb...\u001b[0m\n",
      "\u001b[92m238: Guess: $47.22 Truth: $27.00 Error: $20.22 SLE: 0.30 Item: WE01X25915 Appliance Slide for General E...\u001b[0m\n",
      "\u001b[92m239: Guess: $12.99 Truth: $5.99 Error: $7.00 SLE: 0.48 Item: W10195416 Lower Dishwasher Wheel Replace...\u001b[0m\n",
      "\u001b[92m240: Guess: $11.99 Truth: $6.64 Error: $5.35 SLE: 0.28 Item: Gas Female Cap ORIFICE 1/8\" NPT # .75 (....\u001b[0m\n",
      "\u001b[92m241: Guess: $30.47 Truth: $26.04 Error: $4.43 SLE: 0.02 Item: 9pcs Silicon Rubber Pad for Bottle Cappi...\u001b[0m\n",
      "\u001b[92m242: Guess: $29.99 Truth: $13.79 Error: $16.20 SLE: 0.55 Item: Supplying Demand 6601EL3001A EBF61496101...\u001b[0m\n",
      "\u001b[91m243: Guess: $174.57 Truth: $78.98 Error: $95.59 SLE: 0.62 Item: General Electric WR24X10184 Refrigerator...\u001b[0m\n",
      "\u001b[92m244: Guess: $23.47 Truth: $27.99 Error: $4.52 SLE: 0.03 Item: i Cafilas New Lid Stainless Steel Refill...\u001b[0m\n",
      "\u001b[92m245: Guess: $15.99 Truth: $14.99 Error: $1.00 SLE: 0.00 Item: GHM Humidifier Replacement Filter E HC14...\u001b[0m\n",
      "\u001b[92m246: Guess: $47.22 Truth: $50.25 Error: $3.03 SLE: 0.00 Item: Manitowoc Ice 000009123 Water Inlet Valv...\u001b[0m\n",
      "\u001b[92m247: Guess: $127.22 Truth: $101.36 Error: $25.86 SLE: 0.05 Item: General Electric WH08X10049 Door Boot Se...\u001b[0m\n",
      "\u001b[92m248: Guess: $15.99 Truth: $4.98 Error: $11.01 SLE: 1.09 Item: Kitchen Stove Gap Cover Stove Count Gap ...\u001b[0m\n",
      "\u001b[92m249: Guess: $32.99 Truth: $9.89 Error: $23.10 SLE: 1.30 Item: W11457841 Washer & Dryer Lid Strike - fo...\u001b[0m\n",
      "\u001b[92m250: Guess: $23.47 Truth: $27.99 Error: $4.52 SLE: 0.03 Item: Nispira Humidifier Wick Filter Replaceme...\u001b[0m\n"
     ]
    },
    {
     "data": {
      "image/png": "[encoded data removed]",
      "text/plain": [
       "<Figure size 1200x800 with 1 Axes>"
      ]
     },
     "metadata": {},
     "output_type": "display_data"
    }
   ],
   "source": [
    "Tester.test(gpt_fine_tuned, test)"
   ]
  },
  {
   "cell_type": "code",
   "execution_count": null,
   "id": "c75c13da-b8dd-45b3-b305-0a48915ff5a5",
   "metadata": {},
   "outputs": [],
   "source": []
  }
 ],
 "metadata": {
  "kernelspec": {
   "display_name": "Python 3 (ipykernel)",
   "language": "python",
   "name": "python3"
  },
  "language_info": {
   "codemirror_mode": {
    "name": "ipython",
    "version": 3
   },
   "file_extension": ".py",
   "mimetype": "text/x-python",
   "name": "python",
   "nbconvert_exporter": "python",
   "pygments_lexer": "ipython3",
   "version": "3.11.11"
  }
 },
 "nbformat": 4,
 "nbformat_minor": 5
}
