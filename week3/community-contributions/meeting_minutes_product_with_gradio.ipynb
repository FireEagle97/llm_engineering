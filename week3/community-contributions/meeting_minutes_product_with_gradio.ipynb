{
 "cells": [
  {
   "cell_type": "markdown",
   "id": "9ee402de-9b97-402b-93e3-60cf4a63fb85",
   "metadata": {},
   "source": [
    "# Meeting minutes creator with Gradio¶\n",
    "In this colab, I made a meeting minutes program with gradio UI.\n",
    "\n",
    "It includes useful code to connect your Google Drive to your colab also streaming using TextIteratorStreamer.\n",
    "\n",
    "Upload your own audio and change the audio file path to make this work!!\n",
    "\n",
    "https://colab.research.google.com/drive/16n0LhNmsv5qpNjlAK50LOgylbOGo7XJp?usp=sharing\n",
    "\n",
    "This should run nicely on a low-cost or free T4 box."
   ]
  },
  {
   "cell_type": "code",
   "execution_count": null,
   "id": "44a1981a-0486-41eb-a756-1a2795f784fa",
   "metadata": {},
   "outputs": [],
   "source": []
  }
 ],
 "metadata": {
  "kernelspec": {
   "display_name": "Python 3 (ipykernel)",
   "language": "python",
   "name": "python3"
  },
  "language_info": {
   "codemirror_mode": {
    "name": "ipython",
    "version": 3
   },
   "file_extension": ".py",
   "mimetype": "text/x-python",
   "name": "python",
   "nbconvert_exporter": "python",
   "pygments_lexer": "ipython3",
   "version": "3.11.11"
  }
 },
 "nbformat": 4,
 "nbformat_minor": 5
}
