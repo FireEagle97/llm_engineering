{
 "cells": [
  {
   "cell_type": "markdown",
   "id": "0df0d850-49eb-4a0b-a27a-146969db710d",
   "metadata": {},
   "source": [
    "# The Price is Right\n",
    "\n",
    "Today we'll build another piece of the puzzle: a ScanningAgent that looks for promising deals by subscribing to RSS feeds."
   ]
  },
  {
   "cell_type": "code",
   "execution_count": 1,
   "id": "d3763a79-8a5a-4300-8de4-93e85475af10",
   "metadata": {},
   "outputs": [],
   "source": [
    "# imports\n",
    "\n",
    "import os\n",
    "import json\n",
    "from dotenv import load_dotenv\n",
    "from openai import OpenAI\n",
    "from agents.deals import ScrapedDeal, DealSelection"
   ]
  },
  {
   "cell_type": "code",
   "execution_count": 2,
   "id": "c6469e32-16c3-4443-9475-ade710ef6933",
   "metadata": {},
   "outputs": [],
   "source": [
    "# Initialize and constants\n",
    "\n",
    "load_dotenv(override=True)\n",
    "os.environ['OPENAI_API_KEY'] = os.getenv('OPENAI_API_KEY', 'your-key-if-not-using-env')\n",
    "MODEL = 'gpt-4o-mini'\n",
    "openai = OpenAI()"
   ]
  },
  {
   "cell_type": "code",
   "execution_count": 3,
   "id": "afece9db-8cd4-46be-ac57-0b472e84da7d",
   "metadata": {},
   "outputs": [
    {
     "name": "stderr",
     "output_type": "stream",
     "text": [
      "100%|████████████████████████████████████████████████████████████████████████████████████| 5/5 [00:45<00:00,  9.16s/it]\n"
     ]
    }
   ],
   "source": [
    "deals = ScrapedDeal.fetch(show_progress=True)"
   ]
  },
  {
   "cell_type": "code",
   "execution_count": 4,
   "id": "8cd15c4d-eb44-4601-bf0c-f945c1d8e3ec",
   "metadata": {},
   "outputs": [
    {
     "data": {
      "text/plain": [
       "50"
      ]
     },
     "execution_count": 4,
     "metadata": {},
     "output_type": "execute_result"
    }
   ],
   "source": [
    "len(deals)"
   ]
  },
  {
   "cell_type": "code",
   "execution_count": 5,
   "id": "4259f30a-6455-49ed-8863-2f9ddd4776cb",
   "metadata": {},
   "outputs": [
    {
     "data": {
      "text/plain": [
       "\"Title: Satellai Smart Collar and GPS Dog Fence for $425 + free shipping\\nDetails: It's $75 off. Customers ordered the product during the activity period can enjoy 15% off early bird discount and get 2-months free subscription. Buy Now at SATELLAI\\nFeatures: dual antennas and dual-frequency no terrain limits real-time tracking 120-hour battery\\nURL: https://www.dealnews.com/Satellai-Smart-Collar-and-GPS-Dog-Fence-for-425-free-shipping/21731995.html?iref=rss-c196\""
      ]
     },
     "execution_count": 5,
     "metadata": {},
     "output_type": "execute_result"
    }
   ],
   "source": [
    "deals[44].describe()"
   ]
  },
  {
   "cell_type": "code",
   "execution_count": 6,
   "id": "8100e5ac-38f5-40c1-a712-08ae12c85038",
   "metadata": {},
   "outputs": [],
   "source": [
    "system_prompt = \"\"\"You identify and summarize the 5 most detailed deals from a list, by selecting deals that have the most detailed, high quality description and the most clear price.\n",
    "Respond strictly in JSON with no explanation, using this format. You should provide the price as a number derived from the description. If the price of a deal isn't clear, do not include that deal in your response.\n",
    "Most important is that you respond with the 5 deals that have the most detailed product description with price. It's not important to mention the terms of the deal; most important is a thorough description of the product.\n",
    "Be careful with products that are described as \"$XXX off\" or \"reduced by $XXX\" - this isn't the actual price of the product. Only respond with products when you are highly confident about the price. \n",
    "\n",
    "{\"deals\": [\n",
    "    {\n",
    "        \"product_description\": \"Your clearly expressed summary of the product in 4-5 sentences. Details of the item are much more important than why it's a good deal. Avoid mentioning discounts and coupons; focus on the item itself. There should be a paragpraph of text for each item you choose.\",\n",
    "        \"price\": 99.99,\n",
    "        \"url\": \"the url as provided\"\n",
    "    },\n",
    "    ...\n",
    "]}\"\"\""
   ]
  },
  {
   "cell_type": "code",
   "execution_count": 7,
   "id": "f4bca170-af71-40c9-9597-1d72980c74d8",
   "metadata": {},
   "outputs": [],
   "source": [
    "user_prompt = \"\"\"Respond with the most promising 5 deals from this list, selecting those which have the most detailed, high quality product description and a clear price.\n",
    "Respond strictly in JSON, and only JSON. You should rephrase the description to be a summary of the product itself, not the terms of the deal.\n",
    "Remember to respond with a paragraph of text in the product_description field for each of the 5 items that you select.\n",
    "Be careful with products that are described as \"$XXX off\" or \"reduced by $XXX\" - this isn't the actual price of the product. Only respond with products when you are highly confident about the price. \n",
    "\n",
    "Deals:\n",
    "\n",
    "\"\"\"\n",
    "user_prompt += '\\n\\n'.join([deal.describe() for deal in deals])"
   ]
  },
  {
   "cell_type": "code",
   "execution_count": 9,
   "id": "020947a6-561b-417b-98a0-a085e31d2ce3",
   "metadata": {},
   "outputs": [
    {
     "name": "stdout",
     "output_type": "stream",
     "text": [
      "Respond with the most promising 5 deals from this list, selecting those which have the most detailed, high quality product description and a clear price.\n",
      "Respond strictly in JSON, and only JSON. You should rephrase the description to be a summary of the product itself, not the terms of the deal.\n",
      "Remember to respond with a paragraph of text in the product_description field for each of the 5 items that you select.\n",
      "Be careful with products that are described as \"$XXX off\" or \"reduced by $XXX\" - this isn't the actual price of the product. Only respond with products when you are highly confident about the price. \n",
      "\n",
      "Deals:\n",
      "\n",
      "Title: GoPro Hero11 Black Mini Action Camera for $130 for members + free shipping\n",
      "Details: My Best Buy Total members can get this model for the best-ever price we've seen. (It's also a low now by $70). Best Buy Total are paid memberships, which cost $50 and $180 annually respectively. Buy Now at Best Buy\n",
      "Features: cinematic 5.3K60 + 2.7K240 video 24.7MP stills from video dual mounting fingers waterproof to 33' carrying case Model: CHDHF-111-RW\n",
      "URL: https://www.dealnews.com/products/Go-Pro/Go-Pro-Hero11-Black-Mini-Action-Camera/396992.html?iref=rss-c142\n",
      "\n",
      "Title: Adorama Clearance Deals: Up to 97% off + free shipping w/ $50\n",
      "Details: Adorama has over 1,400 items on clearance including laptops, cameras, camera accessories, gaming items, monitors, and much more. Orders of $49.99 or more ships for free. Shop Now at Adorama\n",
      "Features: \n",
      "URL: https://www.dealnews.com/Adorama-Clearance-Deals-Up-to-97-off-free-shipping-w-50/21732035.html?iref=rss-c142\n",
      "\n",
      "Title: Hyper Tough 9-Outlet 10-Foot Metal Strip Cord for $22 + free shipping w/ $35\n",
      "Details: You'll save $10 off the usual price. Buy Now at Walmart\n",
      "Features: \n",
      "URL: https://www.dealnews.com/products/Hyper-Tough/Hyper-Tough-9-Outlet-10-Foot-Metal-Strip-Cord/488976.html?iref=rss-c142\n",
      "\n",
      "Title: Newegg Trending Deals: Up to 66% off + free shipping\n",
      "Details: Newegg has a selection of trending deals including savings on SSDs, \n"
     ]
    }
   ],
   "source": [
    "print(user_prompt[:2000])"
   ]
  },
  {
   "cell_type": "code",
   "execution_count": 10,
   "id": "7de46f74-868c-4127-8a68-cf2da7d600bb",
   "metadata": {},
   "outputs": [],
   "source": [
    "def get_recommendations():\n",
    "    completion = openai.beta.chat.completions.parse(\n",
    "        model=\"gpt-4o-mini\",\n",
    "        messages=[\n",
    "            {\"role\": \"system\", \"content\": system_prompt},\n",
    "            {\"role\": \"user\", \"content\": user_prompt}\n",
    "      ],\n",
    "        response_format=DealSelection\n",
    "    )\n",
    "    result = completion.choices[0].message.parsed\n",
    "    return result"
   ]
  },
  {
   "cell_type": "code",
   "execution_count": 11,
   "id": "4c06270d-8c17-4d5a-9cfe-b6cefe788d5e",
   "metadata": {},
   "outputs": [],
   "source": [
    "result = get_recommendations()"
   ]
  },
  {
   "cell_type": "code",
   "execution_count": 12,
   "id": "84e62845-3338-441a-8161-c70097af4773",
   "metadata": {},
   "outputs": [
    {
     "data": {
      "text/plain": [
       "5"
      ]
     },
     "execution_count": 12,
     "metadata": {},
     "output_type": "execute_result"
    }
   ],
   "source": [
    "len(result.deals)"
   ]
  },
  {
   "cell_type": "code",
   "execution_count": 14,
   "id": "e5554a0a-ae40-4684-ad3e-faa3d22e030c",
   "metadata": {},
   "outputs": [
    {
     "data": {
      "text/plain": [
       "Deal(product_description='The INIU 45W 10,000mAh Slim Power Bank provides a compact solution for charging your devices on the go. This portable charger comes with a built-in USB-C cable, making it easy to connect without additional accessories. With 10,000mAh capacity, it can charge most smartphones multiple times, ensuring you stay powered up throughout the day. The sleek and slim design allows for easy transport, fitting comfortably in pockets or bags.', price=14.0, url='https://www.dealnews.com/products/INIU/INIU-45-W-10-000-m-Ah-Slim-Power-Bank/488639.html?iref=rss-c142')"
      ]
     },
     "execution_count": 14,
     "metadata": {},
     "output_type": "execute_result"
    }
   ],
   "source": [
    "result.deals[1]"
   ]
  },
  {
   "cell_type": "code",
   "execution_count": 15,
   "id": "8bdc57fb-7497-47af-a643-6ba5a21cc17e",
   "metadata": {},
   "outputs": [],
   "source": [
    "from agents.scanner_agent import ScannerAgent"
   ]
  },
  {
   "cell_type": "code",
   "execution_count": 16,
   "id": "132278bc-217a-43a6-b6c4-724140c6a225",
   "metadata": {},
   "outputs": [],
   "source": [
    "agent = ScannerAgent()\n",
    "result = agent.scan()"
   ]
  },
  {
   "cell_type": "code",
   "execution_count": 17,
   "id": "2e1d013a-c930-4dad-901b-41433379e14b",
   "metadata": {},
   "outputs": [
    {
     "data": {
      "text/plain": [
       "DealSelection(deals=[Deal(product_description='The GoPro Hero11 Black Mini Action Camera is an advanced action camera designed for capturing high-quality video and photos. It features cinematic 5.3K video at 60 frames per second, allowing for stunningly smooth footage, as well as the ability to capture 24.7MP still images from video. The camera is also built to endure tough conditions, being waterproof up to 33 feet, and comes with dual mounting fingers for versatile attachment options. Included is a carrying case, making it easy to transport and protect this rugged piece of technology.', price=130.0, url='https://www.dealnews.com/products/Go-Pro/Go-Pro-Hero11-Black-Mini-Action-Camera/396992.html?iref=rss-c142'), Deal(product_description='The Samsung 990 EVO Plus 2TB Internal SSD is a high-performance storage solution designed for gamers and content creators. It offers impressive read and write speeds of up to 7,250MB/s and 6,300MB/s, respectively, significantly improving load times and file transfer efficiency. This SSD is compatible with a wide range of laptops and desktops, enhancing system performance and responsiveness. Its M.2 form factor makes it easy to integrate into space-constrained builds.', price=130.0, url='https://www.dealnews.com/products/Samsung/Samsung-990-EVO-Plus-2-TB-Internal-SSD/486663.html?iref=rss-c39'), Deal(product_description='The eufy Omni S1 Pro Robot Vacuum is a cutting-edge cleaning device that comes equipped with an advanced HydroJet system and 8,000Pa suction power. This model intelligently navigates your home, efficiently removing dirt and debris while also being capable of mopping hard floors. The vacuum includes an accessory automatic water refill and drainage system, which simplifies maintenance and ensures optimal cleaning performance. It’s a comprehensive solution for keeping your floors immaculate without constant manual labor.', price=1020.0, url='https://www.dealnews.com/products/eufy/eufy-Omni-S1-Pro-Robot-Vacuum/488873.html?iref=rss-f1912'), Deal(product_description='The Positive Grid Spark Live 4-Channel Smart Amplifier is a versatile amplifier capable of handling guitars, bass, keys, or vocals, making it ideal for musicians. This smart amplifier features two channels with 8 customizable presets, allowing users to tailor their sound. It includes a built-in WiFi and Bluetooth connection for easy pairing with devices, and offers 33 amp models and 43 effects to expand your audio possibilities. This makes it a powerful tool for practice and live performances alike.', price=500.0, url='https://www.dealnews.com/Positive-Grid-Spark-Live-4-Channel-Smart-Amplifier-for-500-free-shipping/21729603.html?iref=rss-f1912'), Deal(product_description='The Unlocked Samsung Galaxy Z Fold6 Android Smartphone represents the pinnacle of mobile technology with its innovative folding design, allowing for a tablet-like experience in a compact format. The device offers extensive internal storage options of 256GB or 512GB, suitable for all your apps, media, and files. With a superb camera system for photography and videography, it also features high-resolution displays for an immersive viewing experience. Ideal for tech enthusiasts and professionals alike, this smartphone combines functionality with cutting-edge technology.', price=500.0, url='https://www.dealnews.com/Unlocked-Samsung-Galaxy-Z-Fold6-Android-Smartphone-400-off-or-up-to-1-000-off-w-trade-free-shipping/21731428.html?iref=rss-c142')])"
      ]
     },
     "execution_count": 17,
     "metadata": {},
     "output_type": "execute_result"
    }
   ],
   "source": [
    "result"
   ]
  },
  {
   "cell_type": "code",
   "execution_count": null,
   "id": "5ee2e837-1f1d-42d4-8bc4-51cccc343006",
   "metadata": {},
   "outputs": [],
   "source": []
  }
 ],
 "metadata": {
  "kernelspec": {
   "display_name": "Python 3 (ipykernel)",
   "language": "python",
   "name": "python3"
  },
  "language_info": {
   "codemirror_mode": {
    "name": "ipython",
    "version": 3
   },
   "file_extension": ".py",
   "mimetype": "text/x-python",
   "name": "python",
   "nbconvert_exporter": "python",
   "pygments_lexer": "ipython3",
   "version": "3.11.11"
  }
 },
 "nbformat": 4,
 "nbformat_minor": 5
}
